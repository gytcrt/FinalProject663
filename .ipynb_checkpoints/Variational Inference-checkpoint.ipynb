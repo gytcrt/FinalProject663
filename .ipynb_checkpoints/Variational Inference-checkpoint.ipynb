{
 "cells": [
  {
   "cell_type": "markdown",
   "metadata": {},
   "source": [
    "Latent Dirichlet Allocation - Variational Inference\n",
    "====\n",
    "\n",
    "Based on the paper \"Latent Dirchlet Allocation\" by David M. Blei, Andrew Y. Ng, Michael I. Jordan"
   ]
  },
  {
   "cell_type": "code",
   "execution_count": 1,
   "metadata": {
    "collapsed": true
   },
   "outputs": [],
   "source": [
    "import numpy as np\n",
    "from numpy import sqrt,mean,square\n",
    "import numpy.linalg as la\n",
    "from scipy.special import digamma, polygamma\n",
    "import numba\n",
    "from numba import jit"
   ]
  },
  {
   "cell_type": "code",
   "execution_count": null,
   "metadata": {
    "collapsed": true
   },
   "outputs": [],
   "source": [
    "!git config --global user.email \"kevinjliang2011@gmail.com\"\n",
    "!git config --global user.name \"Kevin Liang\""
   ]
  },
  {
   "cell_type": "markdown",
   "metadata": {},
   "source": [
    "## Parameters\n",
    "\n",
    "document:    $m = 1,...,M$\n",
    "\n",
    "topic:       $z = 1,...,k$\n",
    "\n",
    "word:        $w = 1,...,N_m$\n",
    "\n",
    "vocabulary : $v = 1,...,V$\n",
    "\n",
    "$\\alpha: 1 \\times k$ Model parameter - vector of topic distribution probabilities for each document\n",
    "\n",
    "$\\beta: k \\times v$ Model parameter - matrix of word probabilities for each topic\n",
    "\n",
    "$\\phi: M \\times N_m \\times k$ Variational parameter - matrix of topic probabilities for each word in each document\n",
    "\n",
    "$\\gamma: M \\times k$ Variational parameter - matrix of topic probabilities for each document"
   ]
  },
  {
   "cell_type": "code",
   "execution_count": 2,
   "metadata": {
    "collapsed": false
   },
   "outputs": [],
   "source": [
    "np.random.seed(1337)"
   ]
  },
  {
   "cell_type": "code",
   "execution_count": 3,
   "metadata": {
    "collapsed": false
   },
   "outputs": [
    {
     "name": "stdout",
     "output_type": "stream",
     "text": [
      "N: [173 178 190 189 175 189 176 168 170 158 159 156 176 173 174 151 177 179\n",
      " 156 172 152 191 190 161 151 173 169 196 167 197 177 153 170 158 158 157\n",
      " 177 159 154 181 183 162 156 154 196 170 168 176 153 191 184 192 154 158\n",
      " 164 188 153 174 179 158 197 157 154 185 168 159 199 178 163 162 198 195\n",
      " 183 195 150 199 159 170 195 184 198 198 177 157 170 171 188 194 150 166\n",
      " 168 155 191 175 198 179 173 169 156 160 195 160 195 166 177 177 153 191\n",
      " 162 195 165 150 162 157 161 151 188 183 190 178 159 154 157 183 157 181\n",
      " 160 157 172 153 161 155 192 165 180 191 170 167 150 173 173 152 154 154\n",
      " 191 156 199 188 181 179 162 164 173 159 178 150 187 167 168 177 155 184\n",
      " 167 196 193 167 151 169 157 154 157 194 172 194 156 191 194 180 186 186\n",
      " 152 197 156 151 163 180 166 174 166 158 179 169 176 195 177 188 151 169\n",
      " 153 187 191 184 189 181 194 172 171 188 151 164 188 180 151 177 187 197\n",
      " 150 164 167 152 182 186 163 191 155 151 183 197 173 165 187 154 154 172\n",
      " 181 198 194 181 180 192 193 155 159 184 151 193 174 178 198 198 192 159\n",
      " 156 194 186 163 157 157 175 171 157 183 191 187 175 161 168 159 157 174\n",
      " 179 195 177 193 194 194 184 164 173 168 189 172 164 179 160 168 178 182\n",
      " 176 182 177 182 185 172 165 195 189 199 185 154]\n"
     ]
    }
   ],
   "source": [
    "M = 300\n",
    "k = 10\n",
    "N = np.random.randint(150,200,size=M)\n",
    "V = 30\n",
    "\n",
    "print('N: {0}'.format(N))"
   ]
  },
  {
   "cell_type": "markdown",
   "metadata": {
    "collapsed": true
   },
   "source": [
    "### Test data and pre-processing\n",
    "Randomly generate test data"
   ]
  },
  {
   "cell_type": "markdown",
   "metadata": {},
   "source": [
    "#### Completely random structure"
   ]
  },
  {
   "cell_type": "code",
   "execution_count": null,
   "metadata": {
    "collapsed": false
   },
   "outputs": [],
   "source": [
    "# Generate completely random \"documents\"\n",
    "w_rand = list();\n",
    "\n",
    "for m in range(M):\n",
    "    doc = np.random.randint(V,size=N[m])\n",
    "    w_rand.append(doc)"
   ]
  },
  {
   "cell_type": "code",
   "execution_count": null,
   "metadata": {
    "collapsed": true
   },
   "outputs": [],
   "source": [
    "w_rand"
   ]
  },
  {
   "cell_type": "markdown",
   "metadata": {},
   "source": [
    "#### Add some structure\n",
    "Generate data according to the LDA model"
   ]
  },
  {
   "cell_type": "code",
   "execution_count": 36,
   "metadata": {
    "collapsed": false
   },
   "outputs": [],
   "source": [
    "# Arbitrarily choose topics 2,5,7 (zero-indexed) as the most likely\n",
    "alpha_gen1 = np.array((20,15,10,1,1,1,1,1,1,1))\n",
    "alpha_gen2 = np.array((1,1,1,10,15,20,1,1,1,1))\n",
    "alpha_gen3 = np.array((1,1,1,1,1,1,10,12,15,18))\n",
    "\n",
    "# Arbitrarily choose each topic to have 3 very common words\n",
    "beta_probs = np.ones((V,k)) + np.array([np.arange(V)%k==i for i in range(k)]).T*19\n",
    "beta_gen = np.array(list(map(lambda x: np.random.dirichlet(x),beta_probs.T))).T\n",
    "\n",
    "w_struct = list();\n",
    "theta = np.empty((M,k))\n",
    "\n",
    "# Generate each document\n",
    "for m in range(M):\n",
    "    # Draw topic distribution for the document\n",
    "    if m<M/3:\n",
    "        theta[m,:] = np.random.dirichlet(alpha_gen1,1)[0]\n",
    "    elif m<2*M/3:\n",
    "        theta[m,:] = np.random.dirichlet(alpha_gen2,1)[0]\n",
    "    else:\n",
    "        theta[m,:] = np.random.dirichlet(alpha_gen3,1)[0]\n",
    "    doc = np.array([])\n",
    "    \n",
    "    for n in range(N[m]):\n",
    "        # Draw topic according to document's topic distribution\n",
    "        z_n = np.random.choice(np.arange(k),p=theta[m,:])\n",
    "        # Draw word according to topic\n",
    "        w_n = np.random.choice(np.arange(V),p=beta_gen[:,z_n])\n",
    "        doc = np.append(doc,w_n)\n",
    "    w_struct.append(doc)"
   ]
  },
  {
   "cell_type": "code",
   "execution_count": 35,
   "metadata": {
    "collapsed": false
   },
   "outputs": [],
   "source": [
    "np.savetxt('betaTest.txt',beta_gen,delimiter=',')\n",
    "np.savetxt('thetaTest.txt',theta,delimiter=',')"
   ]
  },
  {
   "cell_type": "code",
   "execution_count": null,
   "metadata": {
    "collapsed": false
   },
   "outputs": [],
   "source": [
    "w_struct"
   ]
  },
  {
   "cell_type": "markdown",
   "metadata": {},
   "source": [
    "### Initialize parameters $\\alpha, \\beta, \\phi$ and $\\gamma$\n",
    "Randomly Initialize parameters to reasonable values"
   ]
  },
  {
   "cell_type": "code",
   "execution_count": 37,
   "metadata": {
    "collapsed": false
   },
   "outputs": [],
   "source": [
    "alpha = 100*np.random.dirichlet(10*np.ones(k),1)[0]\n",
    "beta = np.random.dirichlet(np.ones(V),k).T\n",
    "\n",
    "phi = np.array([1/k*np.ones([N[m],k]) for m in range(M)])\n",
    "gamma = np.tile(alpha,(M,1)) + np.tile(N/k,(k,1)).T"
   ]
  },
  {
   "cell_type": "code",
   "execution_count": 38,
   "metadata": {
    "collapsed": false,
    "scrolled": true
   },
   "outputs": [
    {
     "data": {
      "text/plain": [
       "array([ 19.26106287,   5.65205293,  12.31688782,  14.81206391,\n",
       "         9.35305185,   6.51975435,   5.37469515,   8.99318584,\n",
       "         6.14538664,  11.57185863])"
      ]
     },
     "execution_count": 38,
     "metadata": {},
     "output_type": "execute_result"
    }
   ],
   "source": [
    "alpha"
   ]
  },
  {
   "cell_type": "code",
   "execution_count": 13,
   "metadata": {
    "collapsed": false
   },
   "outputs": [
    {
     "data": {
      "text/plain": [
       "(30, 10)"
      ]
     },
     "execution_count": 13,
     "metadata": {},
     "output_type": "execute_result"
    }
   ],
   "source": [
    "beta.shape"
   ]
  },
  {
   "cell_type": "code",
   "execution_count": 14,
   "metadata": {
    "collapsed": false
   },
   "outputs": [
    {
     "data": {
      "text/plain": [
       "(300,)"
      ]
     },
     "execution_count": 14,
     "metadata": {},
     "output_type": "execute_result"
    }
   ],
   "source": [
    "phi.shape"
   ]
  },
  {
   "cell_type": "code",
   "execution_count": 15,
   "metadata": {
    "collapsed": false
   },
   "outputs": [
    {
     "data": {
      "text/plain": [
       "(300, 10)"
      ]
     },
     "execution_count": 15,
     "metadata": {},
     "output_type": "execute_result"
    }
   ],
   "source": [
    "gamma.shape"
   ]
  },
  {
   "cell_type": "markdown",
   "metadata": {},
   "source": [
    "### Optimize variational parameters $\\phi$ and $\\gamma$"
   ]
  },
  {
   "cell_type": "code",
   "execution_count": 39,
   "metadata": {
    "collapsed": false
   },
   "outputs": [],
   "source": [
    "## Optimize variational parameter phi\n",
    "def opt_phi(beta,gamma,words,M,N,k):\n",
    "    for m in range(M):\n",
    "        for n in range(N[m]):\n",
    "            for i in range(k):\n",
    "                phi[m][n,i] = beta[words[m][n],i] * np.exp(digamma(gamma[m,i]) - digamma(np.sum(gamma[m,:])))\n",
    "            # Normalize across states so phi represents probability over states for each word\n",
    "            phi[m][n,:] = phi[m][n,:]/sum(phi[m][n,:])\n",
    "    return phi\n",
    "\n",
    "\n",
    "## Optimize variational parameter gamma\n",
    "def opt_gamma(alpha,phi,M):\n",
    "    gamma = np.tile(alpha,(M,1)) + np.array(list(map(lambda x: np.sum(x,axis=0),phi)))\n",
    "    return gamma"
   ]
  },
  {
   "cell_type": "markdown",
   "metadata": {},
   "source": [
    "### Estimate model parameters $\\alpha$ and $\\beta$"
   ]
  },
  {
   "cell_type": "code",
   "execution_count": 40,
   "metadata": {
    "collapsed": false
   },
   "outputs": [],
   "source": [
    "## Optimize beta\n",
    "def est_beta(phi,words,k,V):\n",
    "    for j in range (V):\n",
    "        w_dnj = [np.tile((word == j),(k,1)).T for word in words]\n",
    "        beta[j,:] = np.sum(np.array(list(map(lambda x: np.sum(x,axis=0),phi*w_dnj))),axis=0)\n",
    "        \n",
    "    # Normalize across states so beta represents probability of each word given the state\n",
    "    for i in range(k):\n",
    "        beta[:,i] = beta[:,i]/sum(beta[:,i])\n",
    "        \n",
    "    return beta\n",
    "\n",
    "\n",
    "## Optimize alpha\n",
    "#  (Newton-Raphson method, for a Hessian with special structure)\n",
    "def est_alpha(alpha,gamma,M,k,nr_max_iters = 1000,tol = 10**-2.0):\n",
    "    for it in range(nr_max_iters):\n",
    "        alpha_old = alpha\n",
    "        \n",
    "        #  Calculate gradient \n",
    "        g = M*(digamma(np.sum(alpha))-digamma(alpha)) + np.sum(digamma(gamma)-np.tile(digamma(np.sum(gamma,axis=1)),(k,1)).T,axis=0)\n",
    "        #  Calculate Hessian diagonal component\n",
    "        h = -M*polygamma(1,alpha) \n",
    "        #  Calculate Hessian constant component\n",
    "        z = M*polygamma(1,np.sum(alpha))\n",
    "        #  Calculate constant\n",
    "        c = np.sum(g/h)/(z**(-1.0)+np.sum(h**(-1.0)))\n",
    "\n",
    "        #  Update alpha\n",
    "        alpha = alpha - (g-c)/h\n",
    "        \n",
    "        #  Check convergence\n",
    "        if sqrt(mean(square(alpha-alpha_old)))<tol:\n",
    "            break\n",
    "        \n",
    "    return alpha"
   ]
  },
  {
   "cell_type": "markdown",
   "metadata": {},
   "source": [
    "### Expectation Maximization (EM)"
   ]
  },
  {
   "cell_type": "markdown",
   "metadata": {},
   "source": [
    "#### Convergence Criterion\n",
    "The variational inference parameter $\\gamma$ contains the topic likelihoods of every document and is thus what is of interest here.\n",
    "\n",
    "Calculate root-mean-square of the change in $\\gamma$"
   ]
  },
  {
   "cell_type": "code",
   "execution_count": 41,
   "metadata": {
    "collapsed": true
   },
   "outputs": [],
   "source": [
    "def converged(gamma,gamma_old,convergence):\n",
    "    print(sqrt(mean(square(gamma-gamma_old))))\n",
    "    return sqrt(mean(square(gamma-gamma_old))) < convergence"
   ]
  },
  {
   "cell_type": "markdown",
   "metadata": {},
   "source": [
    "#### Inference by iterative EM\n",
    "Continue until convergence criterion above met"
   ]
  },
  {
   "cell_type": "code",
   "execution_count": 42,
   "metadata": {
    "collapsed": false
   },
   "outputs": [
    {
     "name": "stdout",
     "output_type": "stream",
     "text": [
      "0\n"
     ]
    },
    {
     "name": "stderr",
     "output_type": "stream",
     "text": [
      "C:\\Users\\kevin_000\\Anaconda3\\lib\\site-packages\\ipykernel\\__main__.py:6: DeprecationWarning: using a non-integer number instead of an integer will result in an error in the future\n"
     ]
    },
    {
     "name": "stdout",
     "output_type": "stream",
     "text": [
      "3.4379047275\n",
      "1\n",
      "11.2602500949\n",
      "2\n",
      "4.61629583073\n",
      "3\n",
      "2.24574696154\n",
      "4\n",
      "0.7600085649\n",
      "5\n",
      "1.13102478184\n",
      "6\n",
      "2.58191284139\n",
      "7\n",
      "3.87080653526\n",
      "8\n",
      "4.72188189671\n",
      "9\n",
      "4.90524498381\n",
      "10\n",
      "4.39268634455\n",
      "11\n",
      "3.52224965916\n",
      "12\n",
      "2.77822756912\n",
      "13\n",
      "2.27260159679\n",
      "14\n",
      "1.79908874414\n",
      "15\n",
      "1.30506139594\n",
      "16\n",
      "0.904413034419\n",
      "17\n",
      "0.647897344679\n",
      "18\n",
      "0.499094024025\n",
      "19\n",
      "0.409252302522\n",
      "20\n",
      "0.348716985068\n",
      "21\n",
      "0.304011539672\n",
      "22\n",
      "0.269373988056\n",
      "23\n",
      "0.241966752743\n",
      "24\n",
      "0.220085107103\n",
      "25\n",
      "0.202576032338\n",
      "26\n",
      "0.188557696442\n",
      "27\n",
      "0.177369213968\n",
      "28\n",
      "0.168470683386\n",
      "29\n",
      "0.161401022943\n",
      "30\n",
      "0.155765645682\n",
      "31\n",
      "0.151230493201\n",
      "32\n",
      "0.147518509471\n",
      "33\n",
      "0.144405712774\n",
      "34\n",
      "0.141715958878\n",
      "35\n",
      "0.139314585263\n",
      "36\n",
      "0.137101516394\n",
      "37\n",
      "0.135004452328\n",
      "38\n",
      "0.132972662135\n",
      "39\n",
      "0.13097173338\n",
      "40\n",
      "0.12897942617\n",
      "41\n",
      "0.126982591923\n",
      "42\n",
      "0.124974990621\n",
      "43\n",
      "0.122955793272\n",
      "44\n",
      "0.120928564287\n",
      "45\n",
      "0.118900533411\n",
      "46\n",
      "0.116881951073\n",
      "47\n",
      "0.114885277058\n",
      "48\n",
      "0.11292393119\n",
      "49\n",
      "0.111010417838\n",
      "50\n",
      "0.109153889453\n",
      "51\n",
      "0.107357624382\n",
      "52\n",
      "0.105617309656\n",
      "53\n",
      "0.103921158474\n",
      "54\n",
      "0.10225248153\n",
      "55\n",
      "0.100594365139\n",
      "56\n",
      "0.098935023507\n",
      "57\n",
      "0.0972718798627\n",
      "58\n",
      "0.0956129095066\n",
      "59\n",
      "0.0939749852\n",
      "60\n",
      "0.0923801444148\n",
      "61\n",
      "0.090851214364\n",
      "62\n",
      "0.0894080059212\n",
      "63\n",
      "0.0880646961016\n",
      "64\n",
      "0.0868284883803\n",
      "65\n",
      "0.0856993712405\n",
      "66\n",
      "0.0846707498569\n",
      "67\n",
      "0.0837307624949\n",
      "68\n",
      "0.0828640955089\n",
      "69\n",
      "0.0820540466385\n",
      "70\n",
      "0.0812845048259\n",
      "71\n",
      "0.0805414989326\n",
      "72\n",
      "0.0798140685989\n",
      "73\n",
      "0.07909440465\n",
      "74\n",
      "0.0783774088772\n",
      "75\n",
      "0.0776599451633\n",
      "76\n",
      "0.0769400590023\n",
      "77\n",
      "0.0762163573339\n",
      "78\n",
      "0.0754876250638\n",
      "79\n",
      "0.0747526609244\n",
      "80\n",
      "0.0740102664411\n",
      "81\n",
      "0.0732593137014\n",
      "82\n",
      "0.0724988336017\n",
      "83\n",
      "0.0717280896821\n",
      "84\n",
      "0.0709466232217\n",
      "85\n",
      "0.0701542690826\n",
      "86\n",
      "0.0693511490458\n",
      "87\n",
      "0.068537651889\n",
      "88\n",
      "0.0677144091082\n",
      "89\n",
      "0.0668822733643\n",
      "90\n",
      "0.066042304244\n",
      "91\n",
      "0.0651957631859\n",
      "92\n",
      "0.0643441166806\n",
      "93\n",
      "0.0634890443746\n",
      "94\n",
      "0.0626324468187\n",
      "95\n",
      "0.0617764467224\n",
      "96\n",
      "0.0609233780232\n",
      "97\n",
      "0.0600757589733\n",
      "98\n",
      "0.0592362484587\n",
      "99\n",
      "0.0584075882017\n",
      "100\n",
      "0.0575925363747\n",
      "101\n",
      "0.0567937996387\n",
      "102\n",
      "0.0560139702934\n",
      "103\n",
      "0.0552554733585\n",
      "104\n",
      "0.0545205257695\n",
      "105\n",
      "0.0538111074283\n",
      "106\n",
      "0.0531289422973\n",
      "107\n",
      "0.0524754872893\n",
      "108\n",
      "0.0518519271069\n",
      "109\n",
      "0.0512591739373\n",
      "110\n",
      "0.0506978715355\n",
      "111\n",
      "0.0501684034832\n",
      "112\n",
      "0.0496709052811\n",
      "113\n",
      "0.0492052795366\n",
      "114\n",
      "0.0487712130328\n",
      "115\n",
      "0.0483681940127\n",
      "116\n",
      "0.0479955276657\n",
      "117\n",
      "0.047652347568\n",
      "118\n",
      "0.0473376207244\n",
      "119\n",
      "0.0470501439419\n",
      "120\n",
      "0.0467885296392\n",
      "121\n",
      "0.0465511800483\n",
      "122\n",
      "0.0463362503017\n",
      "123\n",
      "0.0461416033062\n",
      "124\n",
      "0.0459647625938\n",
      "125\n"
     ]
    },
    {
     "ename": "KeyboardInterrupt",
     "evalue": "",
     "output_type": "error",
     "traceback": [
      "\u001b[1;31m---------------------------------------------------------------------------\u001b[0m",
      "\u001b[1;31mKeyboardInterrupt\u001b[0m                         Traceback (most recent call last)",
      "\u001b[1;32m<ipython-input-42-9ec20dae2496>\u001b[0m in \u001b[0;36m<module>\u001b[1;34m()\u001b[0m\n\u001b[0;32m      8\u001b[0m \u001b[1;33m\u001b[0m\u001b[0m\n\u001b[0;32m      9\u001b[0m     \u001b[1;31m## Expectation step: Update variational parameters\u001b[0m\u001b[1;33m\u001b[0m\u001b[1;33m\u001b[0m\u001b[0m\n\u001b[1;32m---> 10\u001b[1;33m     \u001b[0mphi\u001b[0m   \u001b[1;33m=\u001b[0m \u001b[0mopt_phi\u001b[0m\u001b[1;33m(\u001b[0m\u001b[0mbeta\u001b[0m\u001b[1;33m,\u001b[0m\u001b[0mgamma\u001b[0m\u001b[1;33m,\u001b[0m\u001b[0mw_struct\u001b[0m\u001b[1;33m,\u001b[0m\u001b[0mM\u001b[0m\u001b[1;33m,\u001b[0m\u001b[0mN\u001b[0m\u001b[1;33m,\u001b[0m\u001b[0mk\u001b[0m\u001b[1;33m)\u001b[0m\u001b[1;33m\u001b[0m\u001b[0m\n\u001b[0m\u001b[0;32m     11\u001b[0m     \u001b[0mgamma\u001b[0m \u001b[1;33m=\u001b[0m \u001b[0mopt_gamma\u001b[0m\u001b[1;33m(\u001b[0m\u001b[0malpha\u001b[0m\u001b[1;33m,\u001b[0m\u001b[0mphi\u001b[0m\u001b[1;33m,\u001b[0m\u001b[0mM\u001b[0m\u001b[1;33m)\u001b[0m\u001b[1;33m\u001b[0m\u001b[0m\n\u001b[0;32m     12\u001b[0m \u001b[1;33m\u001b[0m\u001b[0m\n",
      "\u001b[1;32m<ipython-input-39-bdee888d039a>\u001b[0m in \u001b[0;36mopt_phi\u001b[1;34m(beta, gamma, words, M, N, k)\u001b[0m\n\u001b[0;32m      6\u001b[0m                 \u001b[0mphi\u001b[0m\u001b[1;33m[\u001b[0m\u001b[0mm\u001b[0m\u001b[1;33m]\u001b[0m\u001b[1;33m[\u001b[0m\u001b[0mn\u001b[0m\u001b[1;33m,\u001b[0m\u001b[0mi\u001b[0m\u001b[1;33m]\u001b[0m \u001b[1;33m=\u001b[0m \u001b[0mbeta\u001b[0m\u001b[1;33m[\u001b[0m\u001b[0mwords\u001b[0m\u001b[1;33m[\u001b[0m\u001b[0mm\u001b[0m\u001b[1;33m]\u001b[0m\u001b[1;33m[\u001b[0m\u001b[0mn\u001b[0m\u001b[1;33m]\u001b[0m\u001b[1;33m,\u001b[0m\u001b[0mi\u001b[0m\u001b[1;33m]\u001b[0m \u001b[1;33m*\u001b[0m \u001b[0mnp\u001b[0m\u001b[1;33m.\u001b[0m\u001b[0mexp\u001b[0m\u001b[1;33m(\u001b[0m\u001b[0mdigamma\u001b[0m\u001b[1;33m(\u001b[0m\u001b[0mgamma\u001b[0m\u001b[1;33m[\u001b[0m\u001b[0mm\u001b[0m\u001b[1;33m,\u001b[0m\u001b[0mi\u001b[0m\u001b[1;33m]\u001b[0m\u001b[1;33m)\u001b[0m \u001b[1;33m-\u001b[0m \u001b[0mdigamma\u001b[0m\u001b[1;33m(\u001b[0m\u001b[0mnp\u001b[0m\u001b[1;33m.\u001b[0m\u001b[0msum\u001b[0m\u001b[1;33m(\u001b[0m\u001b[0mgamma\u001b[0m\u001b[1;33m[\u001b[0m\u001b[0mm\u001b[0m\u001b[1;33m,\u001b[0m\u001b[1;33m:\u001b[0m\u001b[1;33m]\u001b[0m\u001b[1;33m)\u001b[0m\u001b[1;33m)\u001b[0m\u001b[1;33m)\u001b[0m\u001b[1;33m\u001b[0m\u001b[0m\n\u001b[0;32m      7\u001b[0m             \u001b[1;31m# Normalize across states so phi represents probability over states for each word\u001b[0m\u001b[1;33m\u001b[0m\u001b[1;33m\u001b[0m\u001b[0m\n\u001b[1;32m----> 8\u001b[1;33m             \u001b[0mphi\u001b[0m\u001b[1;33m[\u001b[0m\u001b[0mm\u001b[0m\u001b[1;33m]\u001b[0m\u001b[1;33m[\u001b[0m\u001b[0mn\u001b[0m\u001b[1;33m,\u001b[0m\u001b[1;33m:\u001b[0m\u001b[1;33m]\u001b[0m \u001b[1;33m=\u001b[0m \u001b[0mphi\u001b[0m\u001b[1;33m[\u001b[0m\u001b[0mm\u001b[0m\u001b[1;33m]\u001b[0m\u001b[1;33m[\u001b[0m\u001b[0mn\u001b[0m\u001b[1;33m,\u001b[0m\u001b[1;33m:\u001b[0m\u001b[1;33m]\u001b[0m\u001b[1;33m/\u001b[0m\u001b[0msum\u001b[0m\u001b[1;33m(\u001b[0m\u001b[0mphi\u001b[0m\u001b[1;33m[\u001b[0m\u001b[0mm\u001b[0m\u001b[1;33m]\u001b[0m\u001b[1;33m[\u001b[0m\u001b[0mn\u001b[0m\u001b[1;33m,\u001b[0m\u001b[1;33m:\u001b[0m\u001b[1;33m]\u001b[0m\u001b[1;33m)\u001b[0m\u001b[1;33m\u001b[0m\u001b[0m\n\u001b[0m\u001b[0;32m      9\u001b[0m     \u001b[1;32mreturn\u001b[0m \u001b[0mphi\u001b[0m\u001b[1;33m\u001b[0m\u001b[0m\n\u001b[0;32m     10\u001b[0m \u001b[1;33m\u001b[0m\u001b[0m\n",
      "\u001b[1;31mKeyboardInterrupt\u001b[0m: "
     ]
    }
   ],
   "source": [
    "convergence = 10**(-2.0)\n",
    "successfully_Converged = False\n",
    "max_iters = 10**3\n",
    "\n",
    "for iters in range(max_iters):\n",
    "    print(iters)\n",
    "    gamma_old = gamma\n",
    "    \n",
    "    ## Expectation step: Update variational parameters\n",
    "    phi   = opt_phi(beta,gamma,w_struct,M,N,k)\n",
    "    gamma = opt_gamma(alpha,phi,M)\n",
    "    \n",
    "    ## Maximization step: Update model parameters\n",
    "    beta  = est_beta(phi,w_struct,k,V)\n",
    "    alpha = est_alpha(alpha,gamma,M,k)\n",
    "    \n",
    "    if converged(gamma,gamma_old,convergence):\n",
    "        successfully_Converged = True\n",
    "        break"
   ]
  },
  {
   "cell_type": "code",
   "execution_count": 43,
   "metadata": {
    "collapsed": false
   },
   "outputs": [
    {
     "data": {
      "text/plain": [
       "array([ 1.40771518,  0.67984295,  1.16526413,  0.91928545,  1.0853886 ,\n",
       "        1.94082134,  0.84966669,  0.72647172,  0.7981282 ,  1.49462569])"
      ]
     },
     "execution_count": 43,
     "metadata": {},
     "output_type": "execute_result"
    }
   ],
   "source": [
    "alpha"
   ]
  },
  {
   "cell_type": "code",
   "execution_count": 28,
   "metadata": {
    "collapsed": false
   },
   "outputs": [
    {
     "data": {
      "text/plain": [
       "array([ 1,  1, 10,  1,  1, 20,  1, 15,  1,  1])"
      ]
     },
     "execution_count": 28,
     "metadata": {},
     "output_type": "execute_result"
    }
   ],
   "source": [
    "alpha_gen1"
   ]
  },
  {
   "cell_type": "code",
   "execution_count": 29,
   "metadata": {
    "collapsed": false
   },
   "outputs": [
    {
     "data": {
      "text/plain": [
       "array([20,  1,  1,  1, 15,  2,  1,  1,  1, 10])"
      ]
     },
     "execution_count": 29,
     "metadata": {},
     "output_type": "execute_result"
    }
   ],
   "source": [
    "alpha_gen2"
   ]
  },
  {
   "cell_type": "code",
   "execution_count": null,
   "metadata": {
    "collapsed": false
   },
   "outputs": [],
   "source": [
    "beta"
   ]
  },
  {
   "cell_type": "code",
   "execution_count": null,
   "metadata": {
    "collapsed": false
   },
   "outputs": [],
   "source": [
    "beta_gen"
   ]
  },
  {
   "cell_type": "code",
   "execution_count": 45,
   "metadata": {
    "collapsed": false
   },
   "outputs": [
    {
     "data": {
      "text/plain": [
       "array([[ 65.84418849,   6.71799072,   2.99258713, ...,  26.6700617 ,\n",
       "          1.10891826,  10.338058  ],\n",
       "       [ 46.17470251,   7.77396843,   6.26149442, ...,  14.85642314,\n",
       "          3.0511823 ,  20.65051345],\n",
       "       [ 58.42898293,   1.78242891,  15.6243198 , ...,  31.84009456,\n",
       "          2.10838161,  13.57102881],\n",
       "       ..., \n",
       "       [  4.13160447,  11.33137087,  58.3315144 , ...,   3.93008105,\n",
       "         25.51560979,  64.94855055],\n",
       "       [  4.93836965,  16.12444379,  40.3306256 , ...,   1.8939937 ,\n",
       "         42.65153321,  48.99622875],\n",
       "       [  3.4281343 ,  30.49377288,  46.68805879, ...,   4.88721628,\n",
       "         13.07539904,  45.33236409]])"
      ]
     },
     "execution_count": 45,
     "metadata": {},
     "output_type": "execute_result"
    }
   ],
   "source": [
    "gamma"
   ]
  },
  {
   "cell_type": "code",
   "execution_count": 48,
   "metadata": {
    "collapsed": true
   },
   "outputs": [],
   "source": [
    "np.savetxt('gammaTest.txt',gamma,delimiter=',')\n",
    "np.savetxt('betaTest.txt',beta,delimiter=',')\n",
    "np.savetxt('betagenTest.txt',beta_gen,delimiter=',')"
   ]
  },
  {
   "cell_type": "code",
   "execution_count": 46,
   "metadata": {
    "collapsed": false
   },
   "outputs": [
    {
     "data": {
      "text/plain": [
       "array([[ 0.43911811,  0.18764257,  0.21984055, ...,  0.00584336,\n",
       "         0.00446856,  0.0040175 ],\n",
       "       [ 0.29015734,  0.43383524,  0.18477215, ...,  0.01731905,\n",
       "         0.02167948,  0.0112847 ],\n",
       "       [ 0.30419096,  0.34069983,  0.25099713, ...,  0.00160195,\n",
       "         0.04501012,  0.00193221],\n",
       "       ..., \n",
       "       [ 0.0066659 ,  0.0280762 ,  0.02455572, ...,  0.16873897,\n",
       "         0.24125024,  0.37762248],\n",
       "       [ 0.01045834,  0.0077218 ,  0.02022639, ...,  0.23870335,\n",
       "         0.20384342,  0.29737286],\n",
       "       [ 0.01611858,  0.01505298,  0.0041712 , ...,  0.1937288 ,\n",
       "         0.30519794,  0.136846  ]])"
      ]
     },
     "execution_count": 46,
     "metadata": {},
     "output_type": "execute_result"
    }
   ],
   "source": [
    "theta"
   ]
  },
  {
   "cell_type": "markdown",
   "metadata": {},
   "source": [
    "### Tests \n",
    "Testing out syntax and array dimensions"
   ]
  },
  {
   "cell_type": "code",
   "execution_count": null,
   "metadata": {
    "collapsed": false
   },
   "outputs": [],
   "source": [
    "theta"
   ]
  },
  {
   "cell_type": "code",
   "execution_count": null,
   "metadata": {
    "collapsed": false
   },
   "outputs": [],
   "source": [
    "gamma/np.sum(gamma,axis=1)[:,None]"
   ]
  },
  {
   "cell_type": "code",
   "execution_count": null,
   "metadata": {
    "collapsed": false
   },
   "outputs": [],
   "source": [
    "# Word #11 in document 2 (w_dn)\n",
    "w_rand[1][10]"
   ]
  },
  {
   "cell_type": "code",
   "execution_count": null,
   "metadata": {
    "collapsed": false
   },
   "outputs": [],
   "source": [
    "[doc == 3 for doc in w_rand]"
   ]
  },
  {
   "cell_type": "code",
   "execution_count": null,
   "metadata": {
    "collapsed": false
   },
   "outputs": [],
   "source": [
    "[doc == 3 for doc in w_rand]*w_rand"
   ]
  },
  {
   "cell_type": "code",
   "execution_count": null,
   "metadata": {
    "collapsed": false
   },
   "outputs": [],
   "source": [
    "np.sum(np.array(list(map(lambda x: np.sum(x,axis=0),phi))),axis=0)"
   ]
  }
 ],
 "metadata": {
  "kernelspec": {
   "display_name": "Python 3",
   "language": "python",
   "name": "python3"
  },
  "language_info": {
   "codemirror_mode": {
    "name": "ipython",
    "version": 3
   },
   "file_extension": ".py",
   "mimetype": "text/x-python",
   "name": "python",
   "nbconvert_exporter": "python",
   "pygments_lexer": "ipython3",
   "version": "3.5.1"
  }
 },
 "nbformat": 4,
 "nbformat_minor": 0
}
