{
 "cells": [
  {
   "cell_type": "markdown",
   "metadata": {},
   "source": [
    "Latent Dirichlet Allocation - Gibbs Sampling\n",
    "====\n",
    "\n",
    "Based on the paper \"Latent Dirchlet Allocation\" by David M. Blei, Andrew Y. Ng, Michael I. Jordan"
   ]
  },
  {
   "cell_type": "code",
   "execution_count": 82,
   "metadata": {
    "collapsed": true
   },
   "outputs": [],
   "source": [
    "from nltk.tokenize import RegexpTokenizer\n",
    "from stop_words import get_stop_words\n",
    "from nltk.stem.porter import PorterStemmer\n",
    "from gensim import corpora, models\n",
    "import gensim\n",
    "\n",
    "tokenizer = RegexpTokenizer(r'\\w+')\n",
    "\n",
    "# create English stop words list\n",
    "en_stop = get_stop_words('en')\n",
    "\n",
    "# Create p_stemmer of class PorterStemmer\n",
    "p_stemmer = PorterStemmer()\n",
    "    \n",
    "# create sample documents\n",
    "doc_a = \"Brocolli is good to eat. My brother likes to eat good brocolli, but not my mother.\"\n",
    "doc_b = \"My mother spends a lot of time driving my brother around to baseball practice.\"\n",
    "doc_c = \"Some health experts suggest that driving may cause increased tension and blood pressure.\"\n",
    "doc_d = \"I often feel pressure to perform well at school, but my mother never seems to drive my brother to do better.\"\n",
    "doc_e = \"Health professionals say that brocolli is good for your health.\" \n",
    "\n",
    "# compile sample documents into a list\n",
    "doc_set = [doc_a, doc_b, doc_c, doc_d, doc_e]\n",
    "\n",
    "# list for tokenized documents in loop\n",
    "texts = []\n",
    "\n",
    "# loop through document list\n",
    "for i in doc_set:\n",
    "    \n",
    "    # clean and tokenize document string\n",
    "    raw = i.lower()\n",
    "    tokens = tokenizer.tokenize(raw)\n",
    "\n",
    "    # remove stop words from tokens\n",
    "    stopped_tokens = [i for i in tokens if not i in en_stop]\n",
    "    \n",
    "    # stem tokens\n",
    "    stemmed_tokens = [p_stemmer.stem(i) for i in stopped_tokens]\n",
    "    \n",
    "    # add tokens to list\n",
    "    texts.append(stemmed_tokens)\n",
    "\n",
    "# turn our tokenized documents into a id <-> term dictionary\n",
    "dictionary = corpora.Dictionary(texts)\n",
    "    \n",
    "# convert tokenized documents into a document-term matrix\n",
    "corpus = [dictionary.doc2bow(text) for text in texts]"
   ]
  },
  {
   "cell_type": "code",
   "execution_count": 83,
   "metadata": {
    "collapsed": true
   },
   "outputs": [],
   "source": [
    "import numpy as np\n",
    "import numpy.linalg as la"
   ]
  },
  {
   "cell_type": "code",
   "execution_count": 84,
   "metadata": {
    "collapsed": false
   },
   "outputs": [
    {
     "data": {
      "text/plain": [
       "[[(0, 2), (1, 1), (2, 2), (3, 2), (4, 1), (5, 1)],\n",
       " [(1, 1), (5, 1), (6, 1), (7, 1), (8, 1), (9, 1), (10, 1), (11, 1), (12, 1)],\n",
       " [(11, 1),\n",
       "  (13, 1),\n",
       "  (14, 1),\n",
       "  (15, 1),\n",
       "  (16, 1),\n",
       "  (17, 1),\n",
       "  (18, 1),\n",
       "  (19, 1),\n",
       "  (20, 1),\n",
       "  (21, 1)],\n",
       " [(1, 1),\n",
       "  (5, 1),\n",
       "  (11, 1),\n",
       "  (18, 1),\n",
       "  (22, 1),\n",
       "  (23, 1),\n",
       "  (24, 1),\n",
       "  (25, 1),\n",
       "  (26, 1),\n",
       "  (27, 1),\n",
       "  (28, 1),\n",
       "  (29, 1)],\n",
       " [(2, 1), (3, 1), (17, 2), (30, 1), (31, 1)]]"
      ]
     },
     "execution_count": 84,
     "metadata": {},
     "output_type": "execute_result"
    }
   ],
   "source": [
    "corpus"
   ]
  },
  {
   "cell_type": "markdown",
   "metadata": {},
   "source": [
    "## Parameters\n",
    "\n",
    "document:    $m = 1,...,M$\n",
    "\n",
    "topic asigned to word:       $z = 1,...,K$\n",
    "\n",
    "word:        $w = 1,...,N_V$\n",
    "\n",
    "vocabulary : $v = 1,...,V$\n",
    "\n",
    "Z: topic assigned to word w\n",
    "\n",
    "$\\theta: K \\times N$ \n",
    "\n",
    "$\\varphi: M \\times K$ \n",
    "\n",
    "$Multinomial(\\theta)$: distribution over words for a given topic\n",
    "\n",
    "$Multinomial(\\varphi)$: distribution over topics for a given document"
   ]
  },
  {
   "cell_type": "markdown",
   "metadata": {
    "collapsed": true
   },
   "source": [
    "According to posterior of $\\theta$ and $\\varphi$, their etimates only depend on the topic assignments Z. Therefore, we are able to only focus on inferring the variable Z and the other variables can be computed directly from Z."
   ]
  },
  {
   "cell_type": "markdown",
   "metadata": {},
   "source": [
    "$Z_{mw}$: topic of word w in document m\n",
    "\n",
    "$n_{mz}$: word count of document m with topic z\n",
    "\n",
    "$n_{zw}$: count of word w with topic z\n",
    "\n",
    "$n_{z}$: word count with topic z\n"
   ]
  },
  {
   "cell_type": "code",
   "execution_count": 85,
   "metadata": {
    "collapsed": false
   },
   "outputs": [],
   "source": [
    "#word count of document m\n",
    "n_m = []\n",
    "for i in range(len(corpus)):\n",
    "    n_m.append(np.sum(corpus[i], axis = 0)[1])\n",
    "n_m = np.array(n_m)"
   ]
  },
  {
   "cell_type": "code",
   "execution_count": 86,
   "metadata": {
    "collapsed": false
   },
   "outputs": [
    {
     "data": {
      "text/plain": [
       "numpy.ndarray"
      ]
     },
     "execution_count": 86,
     "metadata": {},
     "output_type": "execute_result"
    }
   ],
   "source": [
    "type(n_m)"
   ]
  },
  {
   "cell_type": "code",
   "execution_count": 87,
   "metadata": {
    "collapsed": false
   },
   "outputs": [],
   "source": [
    "#corpus : corpus contains bag-of-words\n",
    "#K : number of topics\n",
    "#V : vocaburary size\n",
    "\n",
    "K = 3\n",
    "V = 32\n",
    "max_iter = 50\n",
    "\n",
    "alpha = 0.5\n",
    "beta = 0.5\n",
    "\n",
    "#topic of words in documents\n",
    "z_mw = []\n",
    "#word count of document m with topic z\n",
    "n_mz = np.zeros((len(corpus), K))\n",
    "#count of word w with topic z\n",
    "n_zw = np.zeros((K, V))\n",
    "#word count of each topic\n",
    "n_z = np.zeros(K)"
   ]
  },
  {
   "cell_type": "code",
   "execution_count": 88,
   "metadata": {
    "collapsed": false
   },
   "outputs": [],
   "source": [
    "#initial\n",
    "#m: index of document \n",
    "#n: index of word w\n",
    "#t: times\n",
    "#z: index of topic\n",
    "for m, doc in enumerate(corpus):\n",
    "    z_n = []\n",
    "    for n, t in doc:\n",
    "        z = np.random.randint(0, K)\n",
    "        z_n.append(z)\n",
    "        n_mz[m, z] += t\n",
    "        n_zw[z, n] += t\n",
    "        n_z[z] += t\n",
    "    z_mw.append(np.array(z_n))"
   ]
  },
  {
   "cell_type": "code",
   "execution_count": 89,
   "metadata": {
    "collapsed": false,
    "scrolled": true
   },
   "outputs": [
    {
     "name": "stdout",
     "output_type": "stream",
     "text": [
      "0 , 2 , 1 \n",
      "\n",
      "1 , 3 , 1 \n",
      "\n",
      "2 , 17 , 2 \n",
      "\n",
      "3 , 30 , 1 \n",
      "\n",
      "4 , 31 , 1 \n",
      "\n"
     ]
    }
   ],
   "source": [
    "for n, (w, t) in enumerate(doc):\n",
    "    print(n,',',w,',',t,'\\n')"
   ]
  },
  {
   "cell_type": "code",
   "execution_count": 90,
   "metadata": {
    "collapsed": false
   },
   "outputs": [
    {
     "data": {
      "text/plain": [
       "[array([1, 0, 2, 1, 1, 0]),\n",
       " array([2, 2, 0, 2, 1, 2, 1, 1, 0]),\n",
       " array([2, 1, 2, 2, 2, 0, 0, 2, 0, 2]),\n",
       " array([2, 1, 1, 0, 2, 0, 2, 0, 2, 0, 0, 2]),\n",
       " array([2, 2, 1, 0, 0])]"
      ]
     },
     "execution_count": 90,
     "metadata": {},
     "output_type": "execute_result"
    }
   ],
   "source": [
    "z_mw"
   ]
  },
  {
   "cell_type": "code",
   "execution_count": 91,
   "metadata": {
    "collapsed": false,
    "scrolled": true
   },
   "outputs": [
    {
     "name": "stdout",
     "output_type": "stream",
     "text": [
      "[[ 0.  1.  0.  0.  0.  1.  1.  0.  0.  0.  0.  0.  1.  0.  0.  0.  0.  1.\n",
      "   2.  0.  1.  0.  0.  1.  0.  1.  0.  1.  1.  0.  1.  1.]\n",
      " [ 2.  0.  0.  2.  1.  1.  0.  0.  1.  0.  1.  2.  0.  1.  0.  0.  0.  2.\n",
      "   0.  0.  0.  0.  0.  0.  0.  0.  0.  0.  0.  0.  0.  0.]\n",
      " [ 0.  2.  3.  1.  0.  1.  0.  1.  0.  1.  0.  1.  0.  0.  1.  1.  1.  0.\n",
      "   0.  1.  0.  1.  1.  0.  1.  0.  1.  0.  0.  1.  0.  0.]]\n"
     ]
    }
   ],
   "source": [
    "print(n_zw)"
   ]
  },
  {
   "cell_type": "code",
   "execution_count": 92,
   "metadata": {
    "collapsed": false
   },
   "outputs": [
    {
     "data": {
      "text/plain": [
       "array([ 14.,  13.,  19.])"
      ]
     },
     "execution_count": 92,
     "metadata": {},
     "output_type": "execute_result"
    }
   ],
   "source": [
    "n_z"
   ]
  },
  {
   "cell_type": "code",
   "execution_count": 93,
   "metadata": {
    "collapsed": false,
    "scrolled": false
   },
   "outputs": [],
   "source": [
    " for m, doc in enumerate(corpus):\n",
    "        for n, (w, t) in enumerate(doc):\n",
    "            z = z_mw[m][n]\n",
    "            n_mz[m, z] -= t\n",
    "            n_m[m] -= t\n",
    "            n_zw[z, w] -= t\n",
    "            n_z[z] -= t\n",
    "\n",
    "            #sample new topic\n",
    "            p_z = np.zeros(K)\n",
    "            for j in range(K):\n",
    "                p_z[j] = ((n_zw[j, w] + beta)/(n_z[j] + V * beta)) * ((n_mz[m, j] + alpha)/(n_m[m] + K * alpha))\n",
    "            #p_z = ((n_zw[:, n] + beta) * (n_mz[m] + alpha))/((n_z[z] + V * beta) * (n_m[m] + K * alpha))\n",
    "            #print(p_z/p_z.sum())\n",
    "            #print(n_m)\n",
    "            #print(p_z/p_z.sum())\n",
    "\n",
    "            new_z = np.random.multinomial(1, p_z/p_z.sum()).argmax()\n",
    "            z_mw[m][n] = new_z\n",
    "            n_mz[m, new_z] += t\n",
    "            n_zw[new_z, w] += t\n",
    "            n_z[new_z] += t\n",
    "            n_m[m] += t"
   ]
  },
  {
   "cell_type": "code",
   "execution_count": 94,
   "metadata": {
    "collapsed": true
   },
   "outputs": [],
   "source": [
    "n_m = []\n",
    "for i in range(len(corpus)):\n",
    "    n_m.append(np.sum(corpus[i], axis = 0)[1])\n",
    "n_m = np.array(n_m)\n",
    "    "
   ]
  },
  {
   "cell_type": "code",
   "execution_count": 95,
   "metadata": {
    "collapsed": false
   },
   "outputs": [],
   "source": [
    "#Gibbs sampling\n",
    "\n",
    "for i in range(10):\n",
    "    for m, doc in enumerate(corpus):\n",
    "        for n, (w, t) in enumerate(doc):\n",
    "            z = z_mw[m][n]\n",
    "            n_mz[m, z] -= t\n",
    "            n_m[m] -= t\n",
    "            n_zw[z, w] -= t\n",
    "            n_z[z] -= t\n",
    "\n",
    "            #sample new topic\n",
    "            p_z = np.zeros(K)\n",
    "            for j in range(K):\n",
    "                p_z[j] = ((n_zw[j, w] + beta)/(n_z[j] + V * beta)) * ((n_mz[m, j] + alpha)/(n_m[m] + K * alpha))\n",
    "            #p_z = ((n_zw[:, n] + beta) * (n_mz[m] + alpha))/((n_z[z] + V * beta) * (n_m[m] + K * alpha))\n",
    "            #print(p_z/p_z.sum())\n",
    "            new_z = np.random.multinomial(1, p_z/p_z.sum()).argmax()\n",
    "\n",
    "            z_mw[m][n] = new_z\n",
    "            n_mz[m, new_z] += t\n",
    "            n_zw[new_z, w] += t\n",
    "            n_z[new_z] += t\n",
    "            n_m[m] += t"
   ]
  },
  {
   "cell_type": "code",
   "execution_count": 108,
   "metadata": {
    "collapsed": false
   },
   "outputs": [],
   "source": [
    "#update phi\n",
    "phi = (n_zw + alpha)/(n_z[:,None] + V *alpha)\n",
    "\n",
    "#update theta\n",
    "theta = (n_mz + beta)/(n_m[:, None] + K * beta)"
   ]
  },
  {
   "cell_type": "code",
   "execution_count": 114,
   "metadata": {
    "collapsed": false
   },
   "outputs": [
    {
     "data": {
      "text/plain": [
       "1.0"
      ]
     },
     "execution_count": 114,
     "metadata": {},
     "output_type": "execute_result"
    }
   ],
   "source": [
    "sum(theta[2])"
   ]
  },
  {
   "cell_type": "code",
   "execution_count": null,
   "metadata": {
    "collapsed": true
   },
   "outputs": [],
   "source": []
  }
 ],
 "metadata": {
  "kernelspec": {
   "display_name": "Python 3",
   "language": "python",
   "name": "python3"
  },
  "language_info": {
   "codemirror_mode": {
    "name": "ipython",
    "version": 3
   },
   "file_extension": ".py",
   "mimetype": "text/x-python",
   "name": "python",
   "nbconvert_exporter": "python",
   "pygments_lexer": "ipython3",
   "version": "3.5.1"
  }
 },
 "nbformat": 4,
 "nbformat_minor": 0
}
