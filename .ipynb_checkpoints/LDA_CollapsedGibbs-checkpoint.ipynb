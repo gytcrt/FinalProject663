{
 "cells": [
  {
   "cell_type": "markdown",
   "metadata": {},
   "source": [
    "Latent Dirichlet Allocation - Gibbs Sampling\n",
    "====\n",
    "\n",
    "Based on the paper \"Latent Dirchlet Allocation\" by David M. Blei, Andrew Y. Ng, Michael I. Jordan"
   ]
  },
  {
   "cell_type": "code",
   "execution_count": 56,
   "metadata": {
    "collapsed": false
   },
   "outputs": [],
   "source": [
    "import matplotlib.pyplot as plt\n",
    "from nltk.tokenize import RegexpTokenizer\n",
    "from stop_words import get_stop_words\n",
    "from nltk.stem.porter import PorterStemmer\n",
    "from gensim import corpora, models\n",
    "import gensim\n",
    "\n",
    "tokenizer = RegexpTokenizer(r'\\w+')\n",
    "\n",
    "# create English stop words list\n",
    "en_stop = get_stop_words('en')\n",
    "\n",
    "# Create p_stemmer of class PorterStemmer\n",
    "p_stemmer = PorterStemmer()\n",
    "    \n",
    "# create sample documents\n",
    "doc_a = \"Brocolli is good to eat. My brother likes to eat good brocolli, but not my mother.\"\n",
    "doc_b = \"My mother spends a lot of time driving my brother around to baseball practice.\"\n",
    "doc_c = \"Some health experts suggest that driving may cause increased tension and blood pressure.\"\n",
    "doc_d = \"I often feel pressure to perform well at school, but my mother never seems to drive my brother to do better.\"\n",
    "doc_e = \"Health professionals say that brocolli is good for your health.\" \n",
    "\n",
    "# compile sample documents into a list\n",
    "doc_set = [doc_a, doc_b, doc_c, doc_d, doc_e]\n",
    "\n",
    "# list for tokenized documents in loop\n",
    "texts = []\n",
    "\n",
    "# loop through document list\n",
    "for i in doc_set:\n",
    "    \n",
    "    # clean and tokenize document string\n",
    "    raw = i.lower()\n",
    "    tokens = tokenizer.tokenize(raw)\n",
    "\n",
    "    # remove stop words from tokens\n",
    "    stopped_tokens = [i for i in tokens if not i in en_stop]\n",
    "    \n",
    "    # stem tokens\n",
    "    stemmed_tokens = [p_stemmer.stem(i) for i in stopped_tokens]\n",
    "    \n",
    "    # add tokens to list\n",
    "    texts.append(stemmed_tokens)\n",
    "\n",
    "# turn our tokenized documents into a id <-> term dictionary\n",
    "dictionary = corpora.Dictionary(texts)  \n",
    "# convert tokenized documents into a document-term matrix\n",
    "corpus0 = [dictionary.doc2bow(text) for text in texts]"
   ]
  },
  {
   "cell_type": "code",
   "execution_count": 57,
   "metadata": {
    "collapsed": false
   },
   "outputs": [
    {
     "name": "stdout",
     "output_type": "stream",
     "text": [
      "{'lot': 6, 'basebal': 9, 'mother': 2, 'suggest': 15, 'health': 16, 'feel': 26, 'pressur': 17, 'perform': 27, 'better': 28, 'around': 10, 'brother': 0, 'often': 25, 'brocolli': 3, 'like': 5, 'well': 22, 'practic': 8, 'eat': 1, 'school': 29, 'blood': 14, 'good': 4, 'say': 30, 'tension': 19, 'increas': 20, 'caus': 21, 'spend': 7, 'expert': 13, 'seem': 24, 'may': 18, 'never': 23, 'profession': 31, 'time': 11, 'drive': 12}\n"
     ]
    }
   ],
   "source": [
    "print(dictionary.token2id)"
   ]
  },
  {
   "cell_type": "code",
   "execution_count": 40,
   "metadata": {
    "collapsed": true
   },
   "outputs": [],
   "source": [
    "import numpy as np\n",
    "import numpy.linalg as la"
   ]
  },
  {
   "cell_type": "markdown",
   "metadata": {},
   "source": [
    "## Parameters\n",
    "\n",
    "document:    $m = 1,...,M$\n",
    "\n",
    "topic asigned to word:       $z = 1,...,K$\n",
    "\n",
    "word:        $w = 1,...,N_V$\n",
    "\n",
    "vocabulary : $v = 1,...,V$\n",
    "\n",
    "Z: topic assigned to word w\n",
    "\n",
    "$\\theta: K \\times N$ \n",
    "\n",
    "$\\beta: M \\times K$ \n",
    "\n",
    "$Multinomial(\\theta)$: distribution over words for a given topic\n",
    "\n",
    "$Multinomial(\\beta)$: distribution over topics for a given document"
   ]
  },
  {
   "cell_type": "markdown",
   "metadata": {
    "collapsed": true
   },
   "source": [
    "According to posterior of $\\theta$ and $\\beta$, their etimates only depend on the topic assignments Z. Therefore, we are able to only focus on inferring the variable Z and the other variables can be computed directly from Z."
   ]
  },
  {
   "cell_type": "markdown",
   "metadata": {},
   "source": [
    "$Z_{mw}$: the topic of word w in document m\n",
    "\n",
    "$n_{mz}$: the number of words from document m assigned to topic z\n",
    "\n",
    "$n_{zw}$: the number of words assigned topic z\n",
    "\n",
    "$n_{z}$: the total number of words assigned to topic z\n",
    "\n",
    "$n_{m}$: the total number of words in document m\n"
   ]
  },
  {
   "cell_type": "code",
   "execution_count": 41,
   "metadata": {
    "collapsed": true
   },
   "outputs": [],
   "source": [
    "def words_count_doc(corpus):\n",
    "    \"\"\"\n",
    "    Count the toal number of words in each document in corpus.\n",
    "\n",
    "    Parameters\n",
    "    ----------\n",
    "    corpus : a list-like, contains bag-of-words of each document\n",
    "\n",
    "    Returns\n",
    "    -------\n",
    "    n_m : a np.array, shape(M)\n",
    "         the total number of words in each document\n",
    "    \"\"\"\n",
    "    n_m = []\n",
    "    for i in range(len(corpus)):\n",
    "        n_m.append(np.sum(corpus[i], axis = 0)[1])\n",
    "    return np.array(n_m)\n"
   ]
  },
  {
   "cell_type": "code",
   "execution_count": 42,
   "metadata": {
    "collapsed": true
   },
   "outputs": [],
   "source": [
    "def empty_parameters(corpus, K, V):\n",
    "    \"\"\"\n",
    "    Initialize empty parameter n_mz, n_zw, n_z.\n",
    "\n",
    "    Parameters:\n",
    "    -----------\n",
    "    K : int, the number of topics\n",
    "    V : int, the number of vocabulary\n",
    "    \n",
    "    Returns:\n",
    "    --------\n",
    "    z_mw : the topic of word w in document m\n",
    "    n_mz : the number of words from document m assigned to topic z\n",
    "    n_zw : the number of words assigned topic z\n",
    "    n_z : the total number of words assigned to topic z\n",
    "    \"\"\"\n",
    "    z_mw = []\n",
    "    n_mz = np.zeros((len(corpus), K))\n",
    "    n_zw = np.zeros((K, V))\n",
    "    n_z = np.zeros(K)\n",
    "    return z_mw, n_mz, n_zw, n_z"
   ]
  },
  {
   "cell_type": "code",
   "execution_count": 43,
   "metadata": {
    "collapsed": false
   },
   "outputs": [],
   "source": [
    "def initial_parameters(corpus, K, V):\n",
    "    \"\"\"\n",
    "    Initialize parameters for the corpus \n",
    "\n",
    "    Parameters:\n",
    "    -----------\n",
    "    corpus: a list-like, contains bag-of-words of each document\n",
    "    K : int, the number of topics\n",
    "    V : int, the number of vocabulary\n",
    "\n",
    "    Returns:\n",
    "    --------\n",
    "    z_mw : the topic of word w in document m\n",
    "    n_mz : the number of words from document m assigned to topic z\n",
    "    n_zw : the number of words assigned topic z\n",
    "    n_z : the total number of words assigned to topic z\n",
    "    \n",
    "    \"\"\"\n",
    "    z_mw, n_mz, n_zw, n_z = empty_parameters(corpus, K, V)\n",
    "    z_mw = []\n",
    "    for m, doc in enumerate(corpus):\n",
    "        z_n = []\n",
    "        for n, t in doc:\n",
    "            z = np.random.randint(0, K)\n",
    "            z_n.append(z)\n",
    "            n_mz[m, z] += t\n",
    "            n_zw[z, n] += t\n",
    "            n_z[z] += t\n",
    "        z_mw.append(np.array(z_n))\n",
    "    return z_mw, n_mz, n_zw, n_z"
   ]
  },
  {
   "cell_type": "code",
   "execution_count": 44,
   "metadata": {
    "collapsed": true
   },
   "outputs": [],
   "source": [
    "def sample_topic(K, n_zw, n_z, n_mz, n_m, alpha, phi, w, m):\n",
    "    \"\"\"\n",
    "    Sample new topic for current word\n",
    "    \n",
    "    \"\"\"\n",
    "    p_z = np.zeros(K)\n",
    "    for j in range(K):\n",
    "        p_z[j] = ((n_zw[j, w] + phi)/(n_z[j] + V * phi)) * ((n_mz[m, j] + alpha)/(n_m[m] + K * alpha))\n",
    "    new_z = np.random.multinomial(1, p_z/p_z.sum()).argmax()\n",
    "    return new_z    "
   ]
  },
  {
   "cell_type": "code",
   "execution_count": 45,
   "metadata": {
    "collapsed": true
   },
   "outputs": [],
   "source": [
    "def update_beta(V, n_zw, n_z, alpha, beta_gibbs):\n",
    "    \"\"\"\n",
    "    Update beta\n",
    "    \"\"\"\n",
    "    beta = (n_zw + alpha)/(n_z[:,None] + V *alpha)\n",
    "    return beta"
   ]
  },
  {
   "cell_type": "code",
   "execution_count": 46,
   "metadata": {
    "collapsed": true
   },
   "outputs": [],
   "source": [
    "def update_theta(K, n_mz, n_m, phi, theta_gibbs):\n",
    "    \"\"\"\n",
    "    Update theta\n",
    "    \"\"\"\n",
    "    theta = (n_mz + phi)/(n_m[:, None] + K * phi)\n",
    "    return theta"
   ]
  },
  {
   "cell_type": "code",
   "execution_count": 47,
   "metadata": {
    "collapsed": true
   },
   "outputs": [],
   "source": [
    "def gibbs_sampling(corpus, max_iter, K, V, n_zw, n_z, n_mz, n_m, alpha, phi):\n",
    "    beta_gibbs = []\n",
    "    theta_gibbs = []\n",
    "    \n",
    "    for i in range(max_iter):\n",
    "        for m, doc in enumerate(corpus):\n",
    "            for n, (w, t) in enumerate(doc):\n",
    "                #exclude the current word\n",
    "                z = z_mw[m][n]\n",
    "                n_mz[m, z] -= t\n",
    "                n_m[m] -= t\n",
    "                n_zw[z, w] -= t\n",
    "                n_z[z] -= t\n",
    "        \n",
    "                new_z = sample_topic(K, n_zw, n_z, n_mz, n_m, alpha, phi, w, m)\n",
    "\n",
    "                #include the current word\n",
    "                z_mw[m][n] = new_z\n",
    "                n_mz[m, new_z] += t\n",
    "                n_zw[new_z, w] += t\n",
    "                n_z[new_z] += t\n",
    "                n_m[m] += t\n",
    "\n",
    "        #update beta\n",
    "        beta_gibbs.append(update_beta(V, n_zw, n_z, alpha, beta_gibbs))\n",
    "        #update theta\n",
    "        theta_gibbs.append(update_theta(K, n_mz, n_m, phi, theta_gibbs))\n",
    "    return beta_gibbs, theta_gibbs"
   ]
  },
  {
   "cell_type": "code",
   "execution_count": 58,
   "metadata": {
    "collapsed": true
   },
   "outputs": [],
   "source": [
    "#corpus : corpus contains bag-of-words\n",
    "#K : number of topics\n",
    "#V : vocaburary size\n",
    "\n",
    "K = 3\n",
    "V = 32\n",
    "alpha = 0.5\n",
    "phi = 0.5\n",
    "max_iter = 500\n",
    "\n",
    "#intialize parameters\n",
    "n_m = words_count_doc(corpus0)\n",
    "z_mw, n_mz, n_zw, n_z = initial_parameters(corpus0, K, V)"
   ]
  },
  {
   "cell_type": "code",
   "execution_count": 59,
   "metadata": {
    "collapsed": false
   },
   "outputs": [],
   "source": [
    "beta0, theta0 = gibbs_sampling(corpus0, max_iter, K, V, n_zw, n_z, n_mz, n_m, alpha, phi)"
   ]
  },
  {
   "cell_type": "markdown",
   "metadata": {
    "collapsed": true
   },
   "source": [
    "### Randomly generated test data"
   ]
  },
  {
   "cell_type": "code",
   "execution_count": 50,
   "metadata": {
    "collapsed": false
   },
   "outputs": [],
   "source": [
    "#Intialize parameters\n",
    "#M: number of documents\n",
    "M = 200\n",
    "#k: topic\n",
    "k = 10\n",
    "#N: length of each document\n",
    "np.random.seed(seed=123)\n",
    "N = np.random.randint(50,100,size=M)\n",
    "#V: number of words\n",
    "V = 100"
   ]
  },
  {
   "cell_type": "code",
   "execution_count": 51,
   "metadata": {
    "collapsed": true
   },
   "outputs": [],
   "source": [
    "alpha_gen = np.array((1,1,10,1,1,7,1,20,1,1))\n",
    "beta_gen = np.random.dirichlet(0.1*np.ones(V),k).T\n",
    "\n",
    "w_struct = list();\n",
    "\n",
    "for m in range(M):\n",
    "    theta = np.random.dirichlet(alpha_gen,1)[0]\n",
    "    doc = np.array([])\n",
    "    for n in range(N[m]):\n",
    "        z_n = np.random.choice(np.arange(k),p=theta)\n",
    "        w_n = np.random.choice(np.arange(V),p=beta_gen[:,z_n])\n",
    "        w_n = tokenizer.tokenize(np.array_str(w_n))\n",
    "        doc = np.append(doc,w_n)\n",
    "    w_struct.append(doc)"
   ]
  },
  {
   "cell_type": "code",
   "execution_count": 52,
   "metadata": {
    "collapsed": false
   },
   "outputs": [],
   "source": [
    "# turn our tokenized documents into a id <-> term dictionary\n",
    "dictionary = corpora.Dictionary(w_struct)  \n",
    "# convert tokenized documents into a document-term matrix\n",
    "corpus = [dictionary.doc2bow(text) for text in w_struct]"
   ]
  },
  {
   "cell_type": "code",
   "execution_count": 53,
   "metadata": {
    "collapsed": false
   },
   "outputs": [],
   "source": [
    "#corpus : corpus contains bag-of-words\n",
    "#K : number of topics\n",
    "#V : vocaburary size\n",
    "\n",
    "K = k\n",
    "alpha = 0.5\n",
    "phi = 0.5\n",
    "max_iter = 50\n",
    "\n",
    "#intialize parameters\n",
    "n_m = words_count_doc(corpus)\n",
    "z_mw, n_mz, n_zw, n_z = initial_parameters(corpus, K, V)"
   ]
  },
  {
   "cell_type": "code",
   "execution_count": 54,
   "metadata": {
    "collapsed": false
   },
   "outputs": [],
   "source": [
    "beta0, theta0 = gibbs_sampling(corpus, max_iter, K, V, n_zw, n_z, n_mz, n_m, alpha, phi)"
   ]
  },
  {
   "cell_type": "code",
   "execution_count": 55,
   "metadata": {
    "collapsed": false
   },
   "outputs": [
    {
     "data": {
      "text/plain": [
       "50"
      ]
     },
     "execution_count": 55,
     "metadata": {},
     "output_type": "execute_result"
    }
   ],
   "source": [
    "len(beta0)"
   ]
  },
  {
   "cell_type": "code",
   "execution_count": null,
   "metadata": {
    "collapsed": true
   },
   "outputs": [],
   "source": []
  }
 ],
 "metadata": {
  "kernelspec": {
   "display_name": "Python 3",
   "language": "python",
   "name": "python3"
  },
  "language_info": {
   "codemirror_mode": {
    "name": "ipython",
    "version": 3
   },
   "file_extension": ".py",
   "mimetype": "text/x-python",
   "name": "python",
   "nbconvert_exporter": "python",
   "pygments_lexer": "ipython3",
   "version": "3.5.1"
  }
 },
 "nbformat": 4,
 "nbformat_minor": 0
}
