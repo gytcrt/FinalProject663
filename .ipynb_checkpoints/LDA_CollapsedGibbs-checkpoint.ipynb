{
 "cells": [
  {
   "cell_type": "markdown",
   "metadata": {},
   "source": [
    "Latent Dirichlet Allocation - Gibbs Sampling\n",
    "====\n",
    "\n",
    "Based on the paper \"Latent Dirchlet Allocation\" by David M. Blei, Andrew Y. Ng, Michael I. Jordan"
   ]
  },
  {
   "cell_type": "code",
   "execution_count": 2,
   "metadata": {
    "collapsed": true
   },
   "outputs": [],
   "source": [
    "from nltk.tokenize import RegexpTokenizer\n",
    "from stop_words import get_stop_words\n",
    "from nltk.stem.porter import PorterStemmer\n",
    "from gensim import corpora, models\n",
    "import gensim\n",
    "\n",
    "tokenizer = RegexpTokenizer(r'\\w+')\n",
    "\n",
    "# create English stop words list\n",
    "en_stop = get_stop_words('en')\n",
    "\n",
    "# Create p_stemmer of class PorterStemmer\n",
    "p_stemmer = PorterStemmer()\n",
    "    \n",
    "# create sample documents\n",
    "doc_a = \"Brocolli is good to eat. My brother likes to eat good brocolli, but not my mother.\"\n",
    "doc_b = \"My mother spends a lot of time driving my brother around to baseball practice.\"\n",
    "doc_c = \"Some health experts suggest that driving may cause increased tension and blood pressure.\"\n",
    "doc_d = \"I often feel pressure to perform well at school, but my mother never seems to drive my brother to do better.\"\n",
    "doc_e = \"Health professionals say that brocolli is good for your health.\" \n",
    "\n",
    "# compile sample documents into a list\n",
    "doc_set = [doc_a, doc_b, doc_c, doc_d, doc_e]\n",
    "\n",
    "# list for tokenized documents in loop\n",
    "texts = []\n",
    "\n",
    "# loop through document list\n",
    "for i in doc_set:\n",
    "    \n",
    "    # clean and tokenize document string\n",
    "    raw = i.lower()\n",
    "    tokens = tokenizer.tokenize(raw)\n",
    "\n",
    "    # remove stop words from tokens\n",
    "    stopped_tokens = [i for i in tokens if not i in en_stop]\n",
    "    \n",
    "    # stem tokens\n",
    "    stemmed_tokens = [p_stemmer.stem(i) for i in stopped_tokens]\n",
    "    \n",
    "    # add tokens to list\n",
    "    texts.append(stemmed_tokens)\n",
    "\n",
    "# turn our tokenized documents into a id <-> term dictionary\n",
    "dictionary = corpora.Dictionary(texts)\n",
    "    \n",
    "# convert tokenized documents into a document-term matrix\n",
    "corpus = [dictionary.doc2bow(text) for text in texts]"
   ]
  },
  {
   "cell_type": "code",
   "execution_count": 11,
   "metadata": {
    "collapsed": false
   },
   "outputs": [
    {
     "data": {
      "text/plain": [
       "[[(0, 1), (1, 1), (2, 2), (3, 2), (4, 2), (5, 1)],\n",
       " [(0, 1), (1, 1), (6, 1), (7, 1), (8, 1), (9, 1), (10, 1), (11, 1), (12, 1)],\n",
       " [(12, 1),\n",
       "  (13, 1),\n",
       "  (14, 1),\n",
       "  (15, 1),\n",
       "  (16, 1),\n",
       "  (17, 1),\n",
       "  (18, 1),\n",
       "  (19, 1),\n",
       "  (20, 1),\n",
       "  (21, 1)],\n",
       " [(0, 1),\n",
       "  (1, 1),\n",
       "  (12, 1),\n",
       "  (18, 1),\n",
       "  (22, 1),\n",
       "  (23, 1),\n",
       "  (24, 1),\n",
       "  (25, 1),\n",
       "  (26, 1),\n",
       "  (27, 1),\n",
       "  (28, 1),\n",
       "  (29, 1)],\n",
       " [(2, 1), (4, 1), (19, 2), (30, 1), (31, 1)]]"
      ]
     },
     "execution_count": 11,
     "metadata": {},
     "output_type": "execute_result"
    }
   ],
   "source": [
    "corpus"
   ]
  },
  {
   "cell_type": "code",
   "execution_count": 8,
   "metadata": {
    "collapsed": true
   },
   "outputs": [],
   "source": [
    "import numpy as np\n",
    "import numpy.linalg as la"
   ]
  },
  {
   "cell_type": "markdown",
   "metadata": {},
   "source": [
    "## Parameters\n",
    "\n",
    "document:    $m = 1,...,M$\n",
    "\n",
    "topic asigned to word:       $z = 1,...,K$\n",
    "\n",
    "word:        $w = 1,...,N_V$\n",
    "\n",
    "vocabulary : $v = 1,...,V$\n",
    "\n",
    "Z: topic assigned to word w\n",
    "\n",
    "$\\theta: K \\times N$ \n",
    "\n",
    "$\\varphi: M \\times K$ \n",
    "\n",
    "$Multinomial(\\theta)$: distribution over words for a given topic\n",
    "\n",
    "$Multinomial(\\varphi)$: distribution over topics for a given document"
   ]
  },
  {
   "cell_type": "markdown",
   "metadata": {
    "collapsed": true
   },
   "source": [
    "According to posterior of $\\theta$ and $\\varphi$, their etimates only depend on the topic assignments Z. Therefore, we are able to only focus on inferring the variable Z and the other variables can be computed directly from Z."
   ]
  },
  {
   "cell_type": "markdown",
   "metadata": {},
   "source": [
    "$Z_{mw}$: topic of word w in document m\n",
    "\n",
    "$n_{mz}$: word count of document m with topic z\n",
    "\n",
    "$n_{zw}$: count of word w with topic z\n",
    "\n",
    "$n_{z}$: word count with topic z\n"
   ]
  },
  {
   "cell_type": "code",
   "execution_count": 37,
   "metadata": {
    "collapsed": false
   },
   "outputs": [],
   "source": [
    "#corpus : corpus contains bag-of-words\n",
    "#K : number of topics\n",
    "#V : vocaburary size\n",
    "\n",
    "K = 3\n",
    "V = 32\n",
    "\n",
    "alpha = 0.5\n",
    "beta = 0.5\n",
    "\n",
    "#topic of words in documents\n",
    "z_mw = []\n",
    "#word count of document m with topic z\n",
    "n_mz = np.zeros((len(corpus), K))\n",
    "#count of word w with topic z\n",
    "n_zw = np.zeros((K, V))\n",
    "#word count of each topic\n",
    "n_z = np.zeros(K)"
   ]
  },
  {
   "cell_type": "code",
   "execution_count": 38,
   "metadata": {
    "collapsed": false
   },
   "outputs": [],
   "source": [
    "for m, doc in enumerate(corpus):\n",
    "    z_n = []\n",
    "    for w in doc:\n",
    "        z = np.random.randint(0, K)\n",
    "        z_n.append(z)\n",
    "        n_mz[m, z] += 1\n",
    "        n_zw[z, w] += 1\n",
    "        n_z[z] += 1\n",
    "    z_mw.append(np.array(z_n))"
   ]
  },
  {
   "cell_type": "code",
   "execution_count": 39,
   "metadata": {
    "collapsed": false
   },
   "outputs": [
    {
     "data": {
      "text/plain": [
       "[array([2, 0, 0, 2, 2, 1]),\n",
       " array([1, 1, 2, 2, 2, 0, 1, 0, 0]),\n",
       " array([2, 0, 0, 1, 1, 0, 2, 1, 2, 2]),\n",
       " array([2, 1, 0, 2, 1, 2, 0, 1, 2, 2, 1, 2]),\n",
       " array([1, 1, 0, 0, 0])]"
      ]
     },
     "execution_count": 39,
     "metadata": {},
     "output_type": "execute_result"
    }
   ],
   "source": [
    "z_mw"
   ]
  },
  {
   "cell_type": "code",
   "execution_count": 61,
   "metadata": {
    "collapsed": false
   },
   "outputs": [
    {
     "ename": "ValueError",
     "evalue": "operands could not be broadcast together with shapes (3,2) (5,3) ",
     "output_type": "error",
     "traceback": [
      "\u001b[0;31m---------------------------------------------------------------------------\u001b[0m",
      "\u001b[0;31mValueError\u001b[0m                                Traceback (most recent call last)",
      "\u001b[0;32m<ipython-input-61-7ba30a4ce794>\u001b[0m in \u001b[0;36m<module>\u001b[0;34m()\u001b[0m\n\u001b[1;32m      7\u001b[0m \u001b[0;34m\u001b[0m\u001b[0m\n\u001b[1;32m      8\u001b[0m     \u001b[0;31m#sample new topic\u001b[0m\u001b[0;34m\u001b[0m\u001b[0;34m\u001b[0m\u001b[0m\n\u001b[0;32m----> 9\u001b[0;31m     \u001b[0mp_z\u001b[0m \u001b[0;34m=\u001b[0m \u001b[0;34m(\u001b[0m\u001b[0mn_zw\u001b[0m\u001b[0;34m[\u001b[0m\u001b[0;34m:\u001b[0m\u001b[0;34m,\u001b[0m \u001b[0mw\u001b[0m\u001b[0;34m]\u001b[0m \u001b[0;34m+\u001b[0m \u001b[0mbeta\u001b[0m\u001b[0;34m)\u001b[0m \u001b[0;34m*\u001b[0m \u001b[0;34m(\u001b[0m\u001b[0mn_mz\u001b[0m \u001b[0;34m+\u001b[0m \u001b[0malpha\u001b[0m\u001b[0;34m)\u001b[0m\u001b[0;34m/\u001b[0m\u001b[0;34m(\u001b[0m\u001b[0mn_z\u001b[0m \u001b[0;34m+\u001b[0m \u001b[0mV\u001b[0m \u001b[0;34m*\u001b[0m \u001b[0mbeta\u001b[0m\u001b[0;34m)\u001b[0m\u001b[0;34m\u001b[0m\u001b[0m\n\u001b[0m\u001b[1;32m     10\u001b[0m     \u001b[0mnew_z\u001b[0m \u001b[0;34m=\u001b[0m \u001b[0mnp\u001b[0m\u001b[0;34m.\u001b[0m\u001b[0mrandom\u001b[0m\u001b[0;34m.\u001b[0m\u001b[0mmultinomial\u001b[0m\u001b[0;34m(\u001b[0m\u001b[0;36m1\u001b[0m\u001b[0;34m,\u001b[0m \u001b[0mp_z\u001b[0m\u001b[0;34m/\u001b[0m\u001b[0mp_z\u001b[0m\u001b[0;34m.\u001b[0m\u001b[0msum\u001b[0m\u001b[0;34m(\u001b[0m\u001b[0;34m)\u001b[0m\u001b[0;34m)\u001b[0m\u001b[0;34m.\u001b[0m\u001b[0margmax\u001b[0m\u001b[0;34m(\u001b[0m\u001b[0;34m)\u001b[0m\u001b[0;34m\u001b[0m\u001b[0m\n\u001b[1;32m     11\u001b[0m \u001b[0;34m\u001b[0m\u001b[0m\n",
      "\u001b[0;31mValueError\u001b[0m: operands could not be broadcast together with shapes (3,2) (5,3) "
     ]
    }
   ],
   "source": [
    "for m, doc in enumerate(corpus):\n",
    "    for n, w in enumerate(doc):\n",
    "        z = z_mw[m][n]\n",
    "        n_mz[m, z] -= 1\n",
    "        n_zw[z, w] -= 1\n",
    "        n_z[z] -= 1\n",
    "\n",
    "    #sample new topic\n",
    "    p_z = (n_zw[:, w] + beta) * (n_mz[m] + alpha)/(n_z + V * beta)\n",
    "    new_z = np.random.multinomial(1, p_z/p_z.sum()).argmax()\n",
    "\n",
    "    z_mw[m][w] = new_z\n",
    "    n_mz[m, new_z] += 1\n",
    "    n_zw[new_z, w] += 1\n",
    "    n_z[new_z] += 1"
   ]
  },
  {
   "cell_type": "code",
   "execution_count": 60,
   "metadata": {
    "collapsed": false
   },
   "outputs": [
    {
     "name": "stdout",
     "output_type": "stream",
     "text": [
      "[-11.5  -2.5 -11.5]\n",
      "[-12.5  -2.5 -11.5]\n",
      "[-13.5  -2.5 -11.5]\n",
      "[-13.5  -2.5 -12.5]\n",
      "[-13.5  -2.5 -13.5]\n",
      "[-13.5  -3.5 -13.5]\n",
      "[-2.5 -3.5 -2.5]\n",
      "[-2.5 -4.5 -2.5]\n",
      "[-2.5 -4.5 -3.5]\n",
      "[-2.5 -4.5 -4.5]\n",
      "[-2.5 -4.5 -5.5]\n",
      "[-3.5 -4.5 -5.5]\n",
      "[-3.5 -5.5 -5.5]\n",
      "[-4.5 -5.5 -5.5]\n",
      "[-5.5 -5.5 -5.5]\n",
      "[-2.5 -2.5 -4.5]\n",
      "[-3.5 -2.5 -4.5]\n",
      "[-4.5 -2.5 -4.5]\n",
      "[-4.5 -3.5 -4.5]\n",
      "[-4.5 -4.5 -4.5]\n",
      "[-5.5 -4.5 -4.5]\n",
      "[-5.5 -4.5 -5.5]\n",
      "[-5.5 -5.5 -5.5]\n",
      "[-5.5 -5.5 -6.5]\n",
      "[-5.5 -5.5 -7.5]\n",
      "[-1.5 -3.5 -6.5]\n",
      "[-1.5 -4.5 -6.5]\n",
      "[-2.5 -4.5 -6.5]\n",
      "[-2.5 -4.5 -7.5]\n",
      "[-2.5 -5.5 -7.5]\n",
      "[-2.5 -5.5 -8.5]\n",
      "[-3.5 -5.5 -8.5]\n",
      "[-3.5 -6.5 -8.5]\n",
      "[-3.5 -6.5 -9.5]\n",
      "[ -3.5  -6.5 -10.5]\n",
      "[ -3.5  -7.5 -10.5]\n",
      "[ -3.5  -7.5 -11.5]\n",
      "[-2.5 -2.5  0.5]\n",
      "[-2.5 -3.5  0.5]\n",
      "[-3.5 -3.5  0.5]\n",
      "[-4.5 -3.5  0.5]\n",
      "[-5.5 -3.5  0.5]\n"
     ]
    }
   ],
   "source": [
    "for m, doc in enumerate(corpus):\n",
    "    for n, w in enumerate(doc):\n",
    "        z = z_mw[m][n]\n",
    "        n_mz[m, z] -= 1\n",
    "        n_zw[z, w] -= 1\n",
    "        n_z[z] -= 1\n",
    "        print((n_mz[m] + alpha))"
   ]
  },
  {
   "cell_type": "code",
   "execution_count": null,
   "metadata": {
    "collapsed": true
   },
   "outputs": [],
   "source": []
  }
 ],
 "metadata": {
  "kernelspec": {
   "display_name": "Python 3",
   "language": "python",
   "name": "python3"
  },
  "language_info": {
   "codemirror_mode": {
    "name": "ipython",
    "version": 3
   },
   "file_extension": ".py",
   "mimetype": "text/x-python",
   "name": "python",
   "nbconvert_exporter": "python",
   "pygments_lexer": "ipython3",
   "version": "3.5.1"
  }
 },
 "nbformat": 4,
 "nbformat_minor": 0
}
