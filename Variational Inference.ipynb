{
 "cells": [
  {
   "cell_type": "markdown",
   "metadata": {},
   "source": [
    "Latent Dirichlet Allocation - Variational Inference\n",
    "====\n",
    "\n",
    "Based on the paper \"Latent Dirchlet Allocation\" by David M. Blei, Andrew Y. Ng, Michael I. Jordan"
   ]
  },
  {
   "cell_type": "code",
   "execution_count": 1,
   "metadata": {
    "collapsed": true
   },
   "outputs": [],
   "source": [
    "import numpy as np\n",
    "from numpy import sqrt,mean,square\n",
    "import numpy.linalg as la\n",
    "from scipy.special import digamma, polygamma"
   ]
  },
  {
   "cell_type": "markdown",
   "metadata": {},
   "source": [
    "## Parameters\n",
    "\n",
    "document:    $m = 1,...,M$\n",
    "\n",
    "topic:       $z = 1,...,k$\n",
    "\n",
    "word:        $w = 1,...,N_m$\n",
    "\n",
    "vocabulary : $v = 1,...,V$\n",
    "\n",
    "$\\alpha: 1 \\times k$ vector of topic distribution probabilities\n",
    "\n",
    "$\\beta: k \\times v$ matrix of word probabilities for each topic\n",
    "\n",
    "$\\phi: M \\times N_m \\times k$ matrix of topic probabilities for each word in each document\n",
    "\n",
    "$\\gamma: M \\times k$ matrix of topic probabilities for each document"
   ]
  },
  {
   "cell_type": "code",
   "execution_count": 2,
   "metadata": {
    "collapsed": true
   },
   "outputs": [],
   "source": [
    "np.random.seed(1337)"
   ]
  },
  {
   "cell_type": "markdown",
   "metadata": {
    "collapsed": true
   },
   "source": [
    "### Test data and pre-processing\n",
    "\n",
    "Run the following first:\n",
    "```\n",
    "pip install -U nltk\n",
    "pip install stop-words\n",
    "pip install -U gensim\n",
    "```"
   ]
  },
  {
   "cell_type": "code",
   "execution_count": 52,
   "metadata": {
    "collapsed": false
   },
   "outputs": [
    {
     "name": "stdout",
     "output_type": "stream",
     "text": [
      "Requirement already up-to-date: nltk in /opt/conda/lib/python3.4/site-packages\n",
      "Requirement already satisfied (use --upgrade to upgrade): stop-words in /opt/conda/lib/python3.4/site-packages\n",
      "Fetching package metadata: ......\n",
      "Solving package specifications: .........\n",
      "Warning: 2 possible package resolutions (only showing differing packages):\n",
      "  - r-irkernel-0.5-r3.2.2_1a.tar.bz2\n",
      "  - r-irkernel-0.5-r3.2.2_2.tar.bz2\n",
      "\n",
      "Package plan for installation in environment /opt/conda:\n",
      "\n",
      "The following packages will be UPDATED:\n",
      "\n",
      "    r-irkernel: 0.5-r3.2.2_2 --> 0.5-r3.2.2_1a\n",
      "\n",
      "Unlinking packages ...\n",
      "[      COMPLETE      ]|###################################################| 100%\n",
      "Linking packages ...\n",
      "[      COMPLETE      ]|###################################################| 100%\n"
     ]
    }
   ],
   "source": [
    "!pip install -U nltk\n",
    "!pip install stop-words\n",
    "!conda install -y gensim"
   ]
  },
  {
   "cell_type": "code",
   "execution_count": 53,
   "metadata": {
    "collapsed": false
   },
   "outputs": [],
   "source": [
    "from nltk.tokenize import RegexpTokenizer\n",
    "from stop_words import get_stop_words\n",
    "from nltk.stem.porter import PorterStemmer\n",
    "from gensim import corpora, models\n",
    "import gensim\n",
    "\n",
    "tokenizer = RegexpTokenizer(r'\\w+')\n",
    "\n",
    "# create English stop words list\n",
    "en_stop = get_stop_words('en')\n",
    "\n",
    "# Create p_stemmer of class PorterStemmer\n",
    "p_stemmer = PorterStemmer()\n",
    "    \n",
    "# create sample documents\n",
    "doc_a = \"Brocolli is good to eat. My brother likes to eat good brocolli, but not my mother.\"\n",
    "doc_b = \"My mother spends a lot of time driving my brother around to baseball practice.\"\n",
    "doc_c = \"Some health experts suggest that driving may cause increased tension and blood pressure.\"\n",
    "doc_d = \"I often feel pressure to perform well at school, but my mother never seems to drive my brother to do better.\"\n",
    "doc_e = \"Health professionals say that brocolli is good for your health.\" \n",
    "\n",
    "# compile sample documents into a list\n",
    "doc_set = [doc_a, doc_b, doc_c, doc_d, doc_e]\n",
    "\n",
    "# list for tokenized documents in loop\n",
    "texts = []\n",
    "\n",
    "# loop through document list\n",
    "for i in doc_set:\n",
    "    \n",
    "    # clean and tokenize document string\n",
    "    raw = i.lower()\n",
    "    tokens = tokenizer.tokenize(raw)\n",
    "\n",
    "    # remove stop words from tokens\n",
    "    stopped_tokens = [i for i in tokens if not i in en_stop]\n",
    "    \n",
    "    # stem tokens\n",
    "    stemmed_tokens = [p_stemmer.stem(i) for i in stopped_tokens]\n",
    "    \n",
    "    # add tokens to list\n",
    "    texts.append(stemmed_tokens)\n",
    "\n",
    "# turn our tokenized documents into a id <-> term dictionary\n",
    "dictionary = corpora.Dictionary(texts)\n",
    "    \n",
    "# convert tokenized documents into a document-term matrix\n",
    "corpus = [dictionary.doc2bow(text) for text in texts]"
   ]
  },
  {
   "cell_type": "code",
   "execution_count": 54,
   "metadata": {
    "collapsed": false
   },
   "outputs": [
    {
     "data": {
      "text/plain": [
       "[[(0, 1), (1, 1), (2, 2), (3, 2), (4, 1), (5, 2)],\n",
       " [(0, 1), (4, 1), (6, 1), (7, 1), (8, 1), (9, 1), (10, 1), (11, 1), (12, 1)],\n",
       " [(9, 1),\n",
       "  (13, 1),\n",
       "  (14, 1),\n",
       "  (15, 1),\n",
       "  (16, 1),\n",
       "  (17, 1),\n",
       "  (18, 1),\n",
       "  (19, 1),\n",
       "  (20, 1),\n",
       "  (21, 1)],\n",
       " [(0, 1),\n",
       "  (4, 1),\n",
       "  (9, 1),\n",
       "  (21, 1),\n",
       "  (22, 1),\n",
       "  (23, 1),\n",
       "  (24, 1),\n",
       "  (25, 1),\n",
       "  (26, 1),\n",
       "  (27, 1),\n",
       "  (28, 1),\n",
       "  (29, 1)],\n",
       " [(3, 1), (5, 1), (19, 2), (30, 1), (31, 1)]]"
      ]
     },
     "execution_count": 54,
     "metadata": {},
     "output_type": "execute_result"
    }
   ],
   "source": [
    "corpus"
   ]
  },
  {
   "cell_type": "code",
   "execution_count": 3,
   "metadata": {
    "collapsed": false
   },
   "outputs": [
    {
     "name": "stdout",
     "output_type": "stream",
     "text": [
      "N: [23 28 40]\n"
     ]
    }
   ],
   "source": [
    "M = 3\n",
    "k = 10\n",
    "N = np.random.randint(50,size=M)\n",
    "V = 20\n",
    "\n",
    "print('N: {0}'.format(N))"
   ]
  },
  {
   "cell_type": "code",
   "execution_count": 4,
   "metadata": {
    "collapsed": false
   },
   "outputs": [
    {
     "data": {
      "text/plain": [
       "array([ array([ 7,  7, 18, 18,  8,  9,  6,  1,  6, 18,  2,  9,  8, 11,  1, 19, 14,\n",
       "       17, 15, 19,  3,  8,  8]),\n",
       "       array([ 7,  9,  4,  1, 12,  6,  4, 18, 14, 18,  3,  9,  2, 10,  4,  8, 14,\n",
       "        6,  3,  8, 15,  7,  4,  3, 18,  9, 17, 13]),\n",
       "       array([18, 12, 16, 13, 19, 18,  1, 13,  0, 17,  9, 13,  2, 16, 16,  7,  6,\n",
       "       12, 19,  0, 16, 18,  5,  9, 16, 18, 18, 19,  6, 10, 13, 10, 19, 13,\n",
       "       16,  3,  9, 12, 13, 15])], dtype=object)"
      ]
     },
     "execution_count": 4,
     "metadata": {},
     "output_type": "execute_result"
    }
   ],
   "source": [
    "# Generate random \"documents\"\n",
    "doc1 = np.random.randint(V,size=N[0])\n",
    "doc2 = np.random.randint(V,size=N[1])\n",
    "doc3 = np.random.randint(V,size=N[2])\n",
    "\n",
    "w = np.array((doc1,doc2,doc3))\n",
    "w"
   ]
  },
  {
   "cell_type": "code",
   "execution_count": 11,
   "metadata": {
    "collapsed": false
   },
   "outputs": [
    {
     "data": {
      "text/plain": [
       "3"
      ]
     },
     "execution_count": 11,
     "metadata": {},
     "output_type": "execute_result"
    }
   ],
   "source": [
    "# Word #11 in document 2 (w_dn)\n",
    "w[1][10]"
   ]
  },
  {
   "cell_type": "code",
   "execution_count": 28,
   "metadata": {
    "collapsed": false
   },
   "outputs": [
    {
     "data": {
      "text/plain": [
       "[array([False, False, False, False, False, False, False, False, False,\n",
       "        False, False, False, False, False, False, False, False, False,\n",
       "        False, False,  True, False, False], dtype=bool),\n",
       " array([False, False, False, False, False, False, False, False, False,\n",
       "        False,  True, False, False, False, False, False, False, False,\n",
       "         True, False, False, False, False,  True, False, False, False, False], dtype=bool),\n",
       " array([False, False, False, False, False, False, False, False, False,\n",
       "        False, False, False, False, False, False, False, False, False,\n",
       "        False, False, False, False, False, False, False, False, False,\n",
       "        False, False, False, False, False, False, False, False,  True,\n",
       "        False, False, False, False], dtype=bool)]"
      ]
     },
     "execution_count": 28,
     "metadata": {},
     "output_type": "execute_result"
    }
   ],
   "source": [
    "[doc == 3 for doc in w]"
   ]
  },
  {
   "cell_type": "code",
   "execution_count": 29,
   "metadata": {
    "collapsed": false
   },
   "outputs": [
    {
     "data": {
      "text/plain": [
       "array([ array([0, 0, 0, 0, 0, 0, 0, 0, 0, 0, 0, 0, 0, 0, 0, 0, 0, 0, 0, 0, 3, 0, 0]),\n",
       "       array([0, 0, 0, 0, 0, 0, 0, 0, 0, 0, 3, 0, 0, 0, 0, 0, 0, 0, 3, 0, 0, 0, 0,\n",
       "       3, 0, 0, 0, 0]),\n",
       "       array([0, 0, 0, 0, 0, 0, 0, 0, 0, 0, 0, 0, 0, 0, 0, 0, 0, 0, 0, 0, 0, 0, 0,\n",
       "       0, 0, 0, 0, 0, 0, 0, 0, 0, 0, 0, 0, 3, 0, 0, 0, 0])], dtype=object)"
      ]
     },
     "execution_count": 29,
     "metadata": {},
     "output_type": "execute_result"
    }
   ],
   "source": [
    "[doc == 3 for doc in w]*w"
   ]
  },
  {
   "cell_type": "markdown",
   "metadata": {},
   "source": [
    "### Initialize parameters $\\alpha, \\beta, \\phi$ and $\\gamma$"
   ]
  },
  {
   "cell_type": "code",
   "execution_count": 5,
   "metadata": {
    "collapsed": false
   },
   "outputs": [],
   "source": [
    "alpha = np.random.dirichlet(np.ones(k),1)\n",
    "beta = np.random.dirichlet(np.ones(k),V)\n",
    "\n",
    "phi = np.array([1/k*np.ones([N[m],k]) for m in range(M)])\n",
    "gamma = np.tile(alpha,(M,1)) + np.tile(N/k,(k,1)).T"
   ]
  },
  {
   "cell_type": "code",
   "execution_count": 5,
   "metadata": {
    "collapsed": false,
    "scrolled": true
   },
   "outputs": [
    {
     "data": {
      "text/plain": [
       "array([[ 0.03614628,  0.0682012 ,  0.04293727,  0.08103403,  0.03368725,\n",
       "         0.41405727,  0.14638083,  0.01358403,  0.05414736,  0.10982448]])"
      ]
     },
     "execution_count": 5,
     "metadata": {},
     "output_type": "execute_result"
    }
   ],
   "source": [
    "alpha"
   ]
  },
  {
   "cell_type": "code",
   "execution_count": 36,
   "metadata": {
    "collapsed": false
   },
   "outputs": [
    {
     "data": {
      "text/plain": [
       "(20, 10)"
      ]
     },
     "execution_count": 36,
     "metadata": {},
     "output_type": "execute_result"
    }
   ],
   "source": [
    "beta.shape"
   ]
  },
  {
   "cell_type": "code",
   "execution_count": 42,
   "metadata": {
    "collapsed": false
   },
   "outputs": [
    {
     "data": {
      "text/plain": [
       "(3,)"
      ]
     },
     "execution_count": 42,
     "metadata": {},
     "output_type": "execute_result"
    }
   ],
   "source": [
    "phi.shape"
   ]
  },
  {
   "cell_type": "code",
   "execution_count": 39,
   "metadata": {
    "collapsed": false
   },
   "outputs": [
    {
     "data": {
      "text/plain": [
       "(3, 10)"
      ]
     },
     "execution_count": 39,
     "metadata": {},
     "output_type": "execute_result"
    }
   ],
   "source": [
    "gamma.shape"
   ]
  },
  {
   "cell_type": "markdown",
   "metadata": {},
   "source": [
    "### Optimize variational parameters $\\phi$ and $\\gamma$"
   ]
  },
  {
   "cell_type": "code",
   "execution_count": 7,
   "metadata": {
    "collapsed": true
   },
   "outputs": [],
   "source": [
    "# TODO: Split phi and gamma optimization apart for parallelization purposes\n",
    "# TODO: See if some sort of vectorization is possible for speed-up\n",
    "def optVarParams(alpha,beta,phi,gamma,words):\n",
    "    ## Optimize phi\n",
    "    for m in range(M):\n",
    "        for n in range(N[m]):\n",
    "            for i in range(k):\n",
    "                phi[m][n,i] = beta[words[m][n],i] * np.exp(digamma(gamma[m,i]) - digamma(np.sum(gamma[m,:])))\n",
    "            # Normalize across states so phi represents probability over states for each word\n",
    "            phi[m][n,:] = phi[m][n,:]/sum(phi[m][n,:])\n",
    "    \n",
    "    ## Optimize gamma\n",
    "    gamma = np.tile(alpha,(M,1)) + np.array(list(map(lambda x: np.sum(x,axis=0),phi)))\n",
    "    \n",
    "    return phi,gamma"
   ]
  },
  {
   "cell_type": "code",
   "execution_count": 124,
   "metadata": {
    "collapsed": false,
    "scrolled": false
   },
   "outputs": [],
   "source": [
    "phi,gamma = optVarParams(alpha,beta,phi,gamma,w)"
   ]
  },
  {
   "cell_type": "markdown",
   "metadata": {},
   "source": [
    "### Estimate model parameters $\\alpha$ and $\\beta$"
   ]
  },
  {
   "cell_type": "code",
   "execution_count": 8,
   "metadata": {
    "collapsed": false
   },
   "outputs": [],
   "source": [
    "def estModParams(alpha,beta,phi,gamma,words):\n",
    "    ## Optimize beta\n",
    "    for j in range (V):\n",
    "        w_dnj = [np.tile((word == j),(k,1)).T for word in w]\n",
    "        beta[j,:] = np.sum(np.array(list(map(lambda x: np.sum(x,axis=0),phi*w_dnj))),axis=0)\n",
    "        # Normalize across states so beta represents probability over states for each word\n",
    "        beta[j,:] = beta[j,:]/sum(beta[j,:])\n",
    "    \n",
    "    ## Optimize alpha\n",
    "    nr_max_iters = 1000\n",
    "    tol = 10**-4\n",
    "    for it in range(nr_max_iters):\n",
    "        alpha_old = alpha\n",
    "        \n",
    "        #  Calculate gradient \n",
    "        g = M*(digamma(np.sum(alpha))-digamma(alpha)) + np.sum(digamma(gamma)-np.tile(digamma(np.sum(gamma,axis=1)),(k,1)).T,axis=0)\n",
    "        #  Calculate Hessian diagonal component\n",
    "        h = -M*polygamma(1,alpha) \n",
    "        #  Calculate Hessian constant component\n",
    "        z = polygamma(1,np.sum(alpha))\n",
    "        #  Calculate constant\n",
    "        c = np.sum(g/h)/(z**(-1)+np.sum(h**(-1)))\n",
    "\n",
    "        #  Update alpha\n",
    "        alpha = alpha - (g-c)/h\n",
    "        \n",
    "        #  Check convergence\n",
    "        if sqrt(mean(square(alpha-alpha_old)))<tol:\n",
    "            break\n",
    "\n",
    "    return alpha,beta"
   ]
  },
  {
   "cell_type": "code",
   "execution_count": 126,
   "metadata": {
    "collapsed": false
   },
   "outputs": [
    {
     "data": {
      "text/plain": [
       "(array([[ 2.81550093,  3.38058491,  2.79467498,  2.94223941,  3.41450454,\n",
       "          2.86980884,  2.86901428,  2.84627664,  2.87613474,  2.92062181]]),\n",
       " array([[ 0.097743  ,  0.10585469,  0.09744617,  0.09955311,  0.10634451,\n",
       "          0.09851787,  0.09850653,  0.09818197,  0.09860821,  0.09924393],\n",
       "        [ 0.09742693,  0.10667486,  0.09708858,  0.09949035,  0.10723337,\n",
       "          0.09831022,  0.09829729,  0.09792731,  0.0984132 ,  0.09913789],\n",
       "        [ 0.09680203,  0.10829699,  0.09638168,  0.09936588,  0.10899151,\n",
       "          0.09789947,  0.0978834 ,  0.09742371,  0.09802742,  0.0989279 ],\n",
       "        [ 0.09766106,  0.10606733,  0.09735346,  0.09953684,  0.10657495,\n",
       "          0.09846404,  0.09845228,  0.09811595,  0.09855765,  0.09921644],\n",
       "        [ 0.09755311,  0.10634772,  0.09723137,  0.09951523,  0.10687889,\n",
       "          0.09839302,  0.09838073,  0.09802892,  0.09849095,  0.09918007],\n",
       "        [ 0.09674642,  0.10844134,  0.09631877,  0.09935481,  0.10914796,\n",
       "          0.09786292,  0.09784657,  0.0973789 ,  0.09799309,  0.09890922],\n",
       "        [ 0.09737057,  0.10682128,  0.09702485,  0.09947904,  0.1073921 ,\n",
       "          0.09827313,  0.09825992,  0.09788187,  0.09837836,  0.09911888],\n",
       "        [ 0.09708009,  0.10757523,  0.09669623,  0.09942125,  0.10820924,\n",
       "          0.09808223,  0.09806756,  0.09764779,  0.09819907,  0.09902132],\n",
       "        [ 0.09743019,  0.10666667,  0.09709231,  0.09949083,  0.10722456,\n",
       "          0.09831227,  0.09829936,  0.09792988,  0.09841511,  0.09913883],\n",
       "        [ 0.09798883,  0.10521679,  0.0977243 ,  0.09960193,  0.10565318,\n",
       "          0.09867938,  0.09866927,  0.09838003,  0.09875989,  0.0993264 ],\n",
       "        [ 0.09739884,  0.10674776,  0.0970568 ,  0.09948477,  0.10731238,\n",
       "          0.09829176,  0.09827869,  0.09790468,  0.09839586,  0.09912846],\n",
       "        [ 0.09729167,  0.10702627,  0.09693562,  0.09946322,  0.10761432,\n",
       "          0.09822121,  0.0982076 ,  0.09781824,  0.09832958,  0.09909227],\n",
       "        [ 0.09649912,  0.10908314,  0.09603899,  0.09930566,  0.10984353,\n",
       "          0.09770042,  0.09768283,  0.09717963,  0.09784048,  0.09882621],\n",
       "        [ 0.09749717,  0.1064926 ,  0.09716805,  0.0995043 ,  0.10703584,\n",
       "          0.09835637,  0.09834379,  0.0979839 ,  0.09845653,  0.09916145],\n",
       "        [ 0.09749717,  0.1064926 ,  0.09716805,  0.0995043 ,  0.10703584,\n",
       "          0.09835637,  0.09834379,  0.0979839 ,  0.09845653,  0.09916145],\n",
       "        [ 0.09624592,  0.1097405 ,  0.09575259,  0.09925515,  0.11055604,\n",
       "          0.09753395,  0.09751509,  0.09697556,  0.09768413,  0.09874106],\n",
       "        [ 0.09720668,  0.10724655,  0.09683943,  0.0994465 ,  0.10785299,\n",
       "          0.09816546,  0.09815142,  0.09774982,  0.09827724,  0.0990639 ],\n",
       "        [ 0.09798883,  0.10521679,  0.0977243 ,  0.09960193,  0.10565318,\n",
       "          0.09867938,  0.09866927,  0.09838003,  0.09875989,  0.0993264 ],\n",
       "        [ 0.09703747,  0.10768562,  0.09664798,  0.09941292,  0.10832882,\n",
       "          0.0980543 ,  0.09803941,  0.09761349,  0.09817285,  0.09900714],\n",
       "        [ 0.09694309,  0.10793102,  0.09654127,  0.09939386,  0.10859489,\n",
       "          0.09799212,  0.09797676,  0.09753735,  0.09811443,  0.0989752 ]]))"
      ]
     },
     "execution_count": 126,
     "metadata": {},
     "output_type": "execute_result"
    }
   ],
   "source": [
    "estModParams(alpha,beta,phi,gamma,w)"
   ]
  },
  {
   "cell_type": "markdown",
   "metadata": {},
   "source": [
    "### Expectation Maximization"
   ]
  },
  {
   "cell_type": "markdown",
   "metadata": {},
   "source": [
    "#### Convergence Criterion\n",
    "The variational inference parameter $\\gamma$ contains the topic likelihoods of every document and is thus what is of interest here.\n",
    "\n",
    "Calculate root-mean-square of the change in $\\gamma$"
   ]
  },
  {
   "cell_type": "code",
   "execution_count": 6,
   "metadata": {
    "collapsed": true
   },
   "outputs": [],
   "source": [
    "def converged(gamma,gamma_old,convergence):\n",
    "    print(sqrt(mean(square(gamma-gamma_old))))\n",
    "    return sqrt(mean(square(gamma-gamma_old))) < convergence"
   ]
  },
  {
   "cell_type": "markdown",
   "metadata": {},
   "source": [
    "#### Inference by iterative EM\n",
    "Continue until convergence criterion above met"
   ]
  },
  {
   "cell_type": "code",
   "execution_count": 11,
   "metadata": {
    "collapsed": false
   },
   "outputs": [
    {
     "name": "stdout",
     "output_type": "stream",
     "text": [
      "0\n",
      "2.20433214055\n",
      "1\n",
      "2.20334273545\n",
      "2\n",
      "2.20235415433\n",
      "3\n",
      "2.20136640577\n",
      "4\n",
      "2.20037951567\n",
      "5\n",
      "2.19939343946\n",
      "6\n",
      "2.19840820019\n",
      "7\n",
      "2.19742379179\n",
      "8\n",
      "2.19644021742\n",
      "9\n",
      "2.19545746284\n",
      "10\n",
      "2.19447553648\n",
      "11\n",
      "2.19349444871\n",
      "12\n",
      "2.19251417303\n",
      "13\n",
      "2.19153472446\n",
      "14\n",
      "2.19055611618\n",
      "15\n",
      "2.18957829101\n",
      "16\n",
      "2.1886012964\n",
      "17\n",
      "2.18762513947\n",
      "18\n",
      "2.18664978653\n",
      "19\n",
      "2.18567523958\n",
      "20\n",
      "2.18470152222\n",
      "21\n",
      "2.1837286232\n",
      "22\n",
      "2.18275653381\n",
      "23\n",
      "2.18178525013\n",
      "24\n",
      "2.18081477581\n",
      "25\n",
      "2.17984510993\n",
      "26\n",
      "2.17887625735\n",
      "27\n",
      "2.17790821894\n",
      "28\n",
      "2.17694096689\n",
      "29\n",
      "2.17597454223\n",
      "30\n",
      "2.17500889492\n",
      "31\n",
      "2.17404406208\n",
      "32\n",
      "2.17308003428\n",
      "33\n",
      "2.17211679674\n",
      "34\n",
      "2.17115437442\n",
      "35\n",
      "2.17019274188\n",
      "36\n",
      "2.16923190095\n",
      "37\n",
      "2.16827186003\n",
      "38\n",
      "2.16731261905\n",
      "39\n",
      "2.16635415461\n",
      "40\n",
      "2.1653964896\n",
      "41\n",
      "2.16443961308\n",
      "42\n",
      "2.1634835372\n",
      "43\n",
      "2.16252823951\n",
      "44\n",
      "2.16157374906\n",
      "45\n",
      "2.16062002744\n",
      "46\n",
      "2.15966707817\n",
      "47\n",
      "2.1587149326\n",
      "48\n",
      "2.15776357297\n",
      "49\n",
      "2.15681297017\n",
      "50\n",
      "2.15586317507\n",
      "51\n",
      "2.15491414945\n",
      "52\n",
      "2.15396590942\n",
      "53\n",
      "2.15301843778\n",
      "54\n",
      "2.1520717463\n",
      "55\n",
      "2.15112581445\n",
      "56\n",
      "2.15018067125\n",
      "57\n",
      "2.14923630154\n",
      "58\n",
      "2.14829271492\n",
      "59\n",
      "2.14734987883\n",
      "60\n",
      "2.1464078305\n",
      "61\n",
      "2.14546653399\n",
      "62\n",
      "2.14452601962\n",
      "63\n",
      "2.14358625611\n",
      "64\n",
      "2.14264726565\n",
      "65\n",
      "2.14170903754\n",
      "66\n",
      "2.14077157196\n",
      "67\n",
      "2.13983488386\n",
      "68\n",
      "2.13889894761\n",
      "69\n",
      "2.13796376362\n",
      "70\n",
      "2.13702935838\n",
      "71\n",
      "2.13609569872\n",
      "72\n",
      "2.13516279393\n",
      "73\n",
      "2.13423064549\n",
      "74\n",
      "2.13329924385\n",
      "75\n",
      "2.13236859852\n",
      "76\n",
      "2.13143870038\n",
      "77\n",
      "2.13050958973\n",
      "78\n",
      "2.12958119233\n",
      "79\n",
      "2.12865356783\n",
      "80\n",
      "2.12772667773\n",
      "81\n",
      "2.12680055071\n",
      "82\n",
      "2.12587515379\n",
      "83\n",
      "2.12495049911\n",
      "84\n",
      "2.12402660394\n",
      "85\n",
      "2.12310344342\n",
      "86\n",
      "2.12218103631\n",
      "87\n",
      "2.1212593619\n",
      "88\n",
      "2.12033843273\n",
      "89\n",
      "2.11941823534\n",
      "90\n",
      "2.11849877803\n",
      "91\n",
      "2.11758005614\n",
      "92\n",
      "2.11666209277\n",
      "93\n",
      "2.11574484288\n",
      "94\n",
      "2.11482831628\n",
      "95\n",
      "2.11391253548\n",
      "96\n",
      "2.11299748536\n",
      "97\n",
      "2.11208318062\n",
      "98\n",
      "2.11116960333\n",
      "99\n",
      "2.1102567385\n"
     ]
    }
   ],
   "source": [
    "convergence = 10**(-2)\n",
    "successfully_Converged = False\n",
    "max_iters = 10**2\n",
    "\n",
    "for iters in range(max_iters):\n",
    "    print(iters)\n",
    "    gamma_old = gamma\n",
    "    phi,gamma  = optVarParams(alpha,beta,phi,gamma,w)\n",
    "    alpha,beta = estModParams(alpha,beta,phi,gamma,w)\n",
    "    if converged(gamma,gamma_old,convergence):\n",
    "        successfully_Converged = True\n",
    "        break"
   ]
  },
  {
   "cell_type": "code",
   "execution_count": 12,
   "metadata": {
    "collapsed": false
   },
   "outputs": [
    {
     "data": {
      "text/plain": [
       "array([[  1.41852574e+00,   1.09298790e+00,   6.03848641e-01,\n",
       "          1.51726379e+00,   6.89034002e-01,   5.98795853e-01,\n",
       "          7.45652048e-01,   2.10881461e+04,   3.79338058e+00,\n",
       "          1.14812382e+00]])"
      ]
     },
     "execution_count": 12,
     "metadata": {},
     "output_type": "execute_result"
    }
   ],
   "source": [
    "alpha"
   ]
  },
  {
   "cell_type": "code",
   "execution_count": 13,
   "metadata": {
    "collapsed": false
   },
   "outputs": [
    {
     "data": {
      "text/plain": [
       "array([[  1.41963960e+00,   1.09376360e+00,   6.04160439e-01,\n",
       "          1.51848247e+00,   6.89420052e-01,   5.99103375e-01,\n",
       "          7.46089436e-01,   2.11044758e+04,   3.79710371e+00,\n",
       "          1.14895576e+00],\n",
       "       [  1.41963960e+00,   1.09376360e+00,   6.04160439e-01,\n",
       "          1.51848247e+00,   6.89420052e-01,   5.99103375e-01,\n",
       "          7.46089436e-01,   2.11094758e+04,   3.79710371e+00,\n",
       "          1.14895576e+00],\n",
       "       [  1.41963960e+00,   1.09376360e+00,   6.04160439e-01,\n",
       "          1.51848247e+00,   6.89420052e-01,   5.99103375e-01,\n",
       "          7.46089436e-01,   2.11214758e+04,   3.79710371e+00,\n",
       "          1.14895576e+00]])"
      ]
     },
     "execution_count": 13,
     "metadata": {},
     "output_type": "execute_result"
    }
   ],
   "source": [
    "gamma"
   ]
  },
  {
   "cell_type": "markdown",
   "metadata": {},
   "source": [
    "### Tests \n",
    "Testing out syntax and array dimensions"
   ]
  },
  {
   "cell_type": "code",
   "execution_count": 11,
   "metadata": {
    "collapsed": false
   },
   "outputs": [
    {
     "data": {
      "text/plain": [
       "array([ 9.1,  9.1,  9.1,  9.1,  9.1,  9.1,  9.1,  9.1,  9.1,  9.1])"
      ]
     },
     "execution_count": 11,
     "metadata": {},
     "output_type": "execute_result"
    }
   ],
   "source": [
    "np.sum(np.array(list(map(lambda x: np.sum(x,axis=0),phi))),axis=0)"
   ]
  },
  {
   "cell_type": "code",
   "execution_count": 49,
   "metadata": {
    "collapsed": false
   },
   "outputs": [
    {
     "data": {
      "text/plain": [
       "array([ array([0, 0, 0, 0, 0, 0, 0, 0, 0, 0, 0, 0, 0, 0, 0, 0, 0, 0, 0, 0, 3, 0, 0]),\n",
       "       array([0, 0, 0, 0, 0, 0, 0, 0, 0, 0, 3, 0, 0, 0, 0, 0, 0, 0, 3, 0, 0, 0, 0,\n",
       "       3, 0, 0, 0, 0]),\n",
       "       array([0, 0, 0, 0, 0, 0, 0, 0, 0, 0, 0, 0, 0, 0, 0, 0, 0, 0, 0, 0, 0, 0, 0,\n",
       "       0, 0, 0, 0, 0, 0, 0, 0, 0, 0, 0, 0, 3, 0, 0, 0, 0])], dtype=object)"
      ]
     },
     "execution_count": 49,
     "metadata": {},
     "output_type": "execute_result"
    }
   ],
   "source": [
    "[doc == 3 for doc in w]*w"
   ]
  }
 ],
 "metadata": {
  "kernelspec": {
   "display_name": "Python 3",
   "language": "python",
   "name": "python3"
  },
  "language_info": {
   "codemirror_mode": {
    "name": "ipython",
    "version": 3
   },
   "file_extension": ".py",
   "mimetype": "text/x-python",
   "name": "python",
   "nbconvert_exporter": "python",
   "pygments_lexer": "ipython3",
   "version": "3.4.4"
  }
 },
 "nbformat": 4,
 "nbformat_minor": 0
}
