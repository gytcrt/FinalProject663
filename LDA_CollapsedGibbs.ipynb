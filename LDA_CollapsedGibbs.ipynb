{
 "cells": [
  {
   "cell_type": "markdown",
   "metadata": {},
   "source": [
    "Latent Dirichlet Allocation - Gibbs Sampling\n",
    "====\n",
    "\n",
    "Based on the paper \"Latent Dirchlet Allocation\" by David M. Blei, Andrew Y. Ng, Michael I. Jordan"
   ]
  },
  {
   "cell_type": "code",
   "execution_count": 1,
   "metadata": {
    "collapsed": true
   },
   "outputs": [],
   "source": [
    "import numpy as np\n",
    "import numpy.linalg as la"
   ]
  },
  {
   "cell_type": "markdown",
   "metadata": {},
   "source": [
    "## Parameters\n",
    "\n",
    "document:    $m = 1,...,M$\n",
    "\n",
    "topic asigned to word:       $z = 1,...,K$\n",
    "\n",
    "word:        $w = 1,...,N_V$\n",
    "\n",
    "vocabulary : $v = 1,...,V$\n",
    "\n",
    "$\\theta: K \\times N$ \n",
    "\n",
    "$\\varphi: M \\times K$ \n",
    "\n",
    "$Multinomial(\\theta)$: distribution over words for a given topic\n",
    "\n",
    "$Multinomial(\\varphi)$: distribution over topics for a given document"
   ]
  },
  {
   "cell_type": "code",
   "execution_count": null,
   "metadata": {
    "collapsed": true
   },
   "outputs": [],
   "source": []
  }
 ],
 "metadata": {
  "kernelspec": {
   "display_name": "Python 3",
   "language": "python",
   "name": "python3"
  },
  "language_info": {
   "codemirror_mode": {
    "name": "ipython",
    "version": 3
   },
   "file_extension": ".py",
   "mimetype": "text/x-python",
   "name": "python",
   "nbconvert_exporter": "python",
   "pygments_lexer": "ipython3",
   "version": "3.5.1"
  }
 },
 "nbformat": 4,
 "nbformat_minor": 0
}
